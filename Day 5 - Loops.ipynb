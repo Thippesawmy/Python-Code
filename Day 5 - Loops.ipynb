{
 "cells": [
  {
   "cell_type": "code",
   "execution_count": 1,
   "metadata": {},
   "outputs": [
    {
     "name": "stdout",
     "output_type": "stream",
     "text": [
      "Some or all the values are not greater than 5\n"
     ]
    }
   ],
   "source": [
    "a, b, c = 10, 20, 5\n",
    "\n",
    "if a > 5 and b > 5 and c > 5:\n",
    "    print('All the values are greater than 5')\n",
    "else:\n",
    "    print('Some or all the values are not greater than 5')"
   ]
  },
  {
   "cell_type": "code",
   "execution_count": 3,
   "metadata": {},
   "outputs": [
    {
     "name": "stdout",
     "output_type": "stream",
     "text": [
      "All/Some of the values are greater than 5\n"
     ]
    }
   ],
   "source": [
    "if a > 5 or b > 5 or c > 5:\n",
    "    print('All/Some of the values are greater than 5')\n",
    "else:\n",
    "    print('Some or all the values are not greater than 5')"
   ]
  },
  {
   "cell_type": "code",
   "execution_count": 4,
   "metadata": {},
   "outputs": [
    {
     "name": "stdout",
     "output_type": "stream",
     "text": [
      "Either one is False\n"
     ]
    }
   ],
   "source": [
    "if not (a>b or b > c):\n",
    "    print('Either one is True')\n",
    "else:\n",
    "    print('Either one is False')"
   ]
  },
  {
   "cell_type": "code",
   "execution_count": 5,
   "metadata": {},
   "outputs": [
    {
     "ename": "TypeError",
     "evalue": "can't multiply sequence by non-int of type 'list'",
     "output_type": "error",
     "traceback": [
      "\u001b[1;31m---------------------------------------------------------------------------\u001b[0m",
      "\u001b[1;31mTypeError\u001b[0m                                 Traceback (most recent call last)",
      "\u001b[1;32m<ipython-input-5-14da6ad4899a>\u001b[0m in \u001b[0;36m<module>\u001b[1;34m\u001b[0m\n\u001b[0;32m      1\u001b[0m \u001b[0ma\u001b[0m \u001b[1;33m=\u001b[0m \u001b[1;33m[\u001b[0m\u001b[1;36m1\u001b[0m\u001b[1;33m,\u001b[0m\u001b[1;36m2\u001b[0m\u001b[1;33m,\u001b[0m\u001b[1;36m3\u001b[0m\u001b[1;33m,\u001b[0m\u001b[1;36m4\u001b[0m\u001b[1;33m,\u001b[0m\u001b[1;36m5\u001b[0m\u001b[1;33m]\u001b[0m\u001b[1;33m\u001b[0m\u001b[1;33m\u001b[0m\u001b[0m\n\u001b[1;32m----> 2\u001b[1;33m \u001b[0mprint\u001b[0m\u001b[1;33m(\u001b[0m\u001b[0ma\u001b[0m\u001b[1;33m*\u001b[0m\u001b[0ma\u001b[0m\u001b[1;33m)\u001b[0m\u001b[1;33m\u001b[0m\u001b[1;33m\u001b[0m\u001b[0m\n\u001b[0m",
      "\u001b[1;31mTypeError\u001b[0m: can't multiply sequence by non-int of type 'list'"
     ]
    }
   ],
   "source": [
    "a = [1,2,3,4,5]\n",
    "print(a*a)"
   ]
  },
  {
   "cell_type": "code",
   "execution_count": 6,
   "metadata": {},
   "outputs": [
    {
     "name": "stdout",
     "output_type": "stream",
     "text": [
      "0\n",
      "1\n",
      "2\n",
      "3\n",
      "4\n"
     ]
    }
   ],
   "source": [
    "for i in range(5):\n",
    "    print(i)"
   ]
  },
  {
   "cell_type": "code",
   "execution_count": 9,
   "metadata": {},
   "outputs": [
    {
     "name": "stdout",
     "output_type": "stream",
     "text": [
      "Squared Value of 1 is 1\n",
      "Squared Value of 2 is 4\n",
      "Squared Value of 3 is 9\n",
      "Squared Value of 4 is 16\n",
      "Squared Value of 5 is 25\n"
     ]
    }
   ],
   "source": [
    "for i in a:\n",
    "    print(\"Squared Value of {} is\".format(i), i * i)"
   ]
  },
  {
   "cell_type": "code",
   "execution_count": 13,
   "metadata": {},
   "outputs": [
    {
     "name": "stdout",
     "output_type": "stream",
     "text": [
      "Enter a Number between 0 to 10:-9\n",
      "Absolute value of the Negative number is: 9\n",
      "Absolute value of the Negative number is: 9\n",
      "Absolute value of the Negative number is: 9\n",
      "Absolute value of the Negative number is: 9\n",
      "Absolute value of the Negative number is: 9\n"
     ]
    }
   ],
   "source": [
    "a = eval(input(\"Enter a Number between 0 to 10:\"))\n",
    "for i in range(5):\n",
    "    if a > 0:\n",
    "        print('Squared Value of the Positive Input is', a * a)\n",
    "    elif a < 0:\n",
    "        print('Absolute value of the Negative number is:', abs(a))\n",
    "    else:\n",
    "        print('The given number is zero')"
   ]
  },
  {
   "cell_type": "code",
   "execution_count": 12,
   "metadata": {},
   "outputs": [
    {
     "name": "stdout",
     "output_type": "stream",
     "text": [
      "Enter a Number between 0 to 10:2\n",
      "Squared Value of the Positive Input is 4\n",
      "Enter a Number between 0 to 10:-9\n",
      "Absolute value of the Negative number is: 9\n",
      "Enter a Number between 0 to 10:0\n",
      "The given number is zero\n",
      "Enter a Number between 0 to 10:10\n",
      "Squared Value of the Positive Input is 100\n",
      "Enter a Number between 0 to 10:2\n",
      "Squared Value of the Positive Input is 4\n"
     ]
    }
   ],
   "source": [
    "for i in range(5):\n",
    "    a = eval(input(\"Enter a Number between 0 to 10:\"))\n",
    "    if a > 0:\n",
    "        print('Squared Value of the Positive Input is', a * a)\n",
    "    elif a < 0:\n",
    "        print('Absolute value of the Negative number is:', abs(a))\n",
    "    else:\n",
    "        print('The given number is zero')"
   ]
  },
  {
   "cell_type": "code",
   "execution_count": 16,
   "metadata": {},
   "outputs": [
    {
     "name": "stdout",
     "output_type": "stream",
     "text": [
      "e a e o o i e 7\n"
     ]
    }
   ],
   "source": [
    "a = \"Besant Technologies\"\n",
    "count = 0\n",
    "vowels = \"AEIOUaeiou\"\n",
    "\n",
    "for i in a:\n",
    "    if i in vowels:\n",
    "        count +=1\n",
    "        print(i, end = \" \")\n",
    "print(count)"
   ]
  },
  {
   "cell_type": "code",
   "execution_count": 17,
   "metadata": {},
   "outputs": [
    {
     "name": "stdout",
     "output_type": "stream",
     "text": [
      "B, e, s, a, n, t,  , T, e, c, h, n, o, l, o, g, i, e, s, "
     ]
    }
   ],
   "source": [
    "for i in a:\n",
    "    print(i, end =\", \")"
   ]
  },
  {
   "cell_type": "markdown",
   "metadata": {},
   "source": [
    "# while Loop"
   ]
  },
  {
   "cell_type": "code",
   "execution_count": 19,
   "metadata": {},
   "outputs": [
    {
     "name": "stdout",
     "output_type": "stream",
     "text": [
      "0 1 2 3 4 "
     ]
    }
   ],
   "source": [
    "for i in range(5):\n",
    "    print(i, end = \" \")"
   ]
  },
  {
   "cell_type": "code",
   "execution_count": 24,
   "metadata": {},
   "outputs": [
    {
     "name": "stdout",
     "output_type": "stream",
     "text": [
      "0 1 2 3 4 "
     ]
    }
   ],
   "source": [
    "i = 0\n",
    "while i !=5:\n",
    "    print(i, end = \" \")\n",
    "    i += 1"
   ]
  },
  {
   "cell_type": "code",
   "execution_count": 31,
   "metadata": {},
   "outputs": [
    {
     "name": "stdout",
     "output_type": "stream",
     "text": [
      "Square of 1 is 1\n",
      "Square of 2 is 4\n",
      "Square of 3 is 9\n",
      "Square of 4 is 16\n",
      "Square of 5 is 25\n"
     ]
    }
   ],
   "source": [
    "a = [1,2,3,4,5]\n",
    "length = len(a)\n",
    "i = 0\n",
    "while length > i:  \n",
    "    print('Square of {} is'.format(a[i]), a[i]**2)\n",
    "    i += 1"
   ]
  },
  {
   "cell_type": "code",
   "execution_count": 33,
   "metadata": {},
   "outputs": [
    {
     "name": "stdout",
     "output_type": "stream",
     "text": [
      "Please Enter a Temperature in Celsius:45\n",
      "Converted Temp in Farhenheit is 113.0 \n",
      "\n",
      "Please Enter a Temperature in Celsius:55\n",
      "Converted Temp in Farhenheit is 131.0 \n",
      "\n",
      "Please Enter a Temperature in Celsius:65\n",
      "Converted Temp in Farhenheit is 149.0 \n",
      "\n",
      "Please Enter a Temperature in Celsius:75\n",
      "Converted Temp in Farhenheit is 167.0 \n",
      "\n",
      "Please Enter a Temperature in Celsius:85\n",
      "Converted Temp in Farhenheit is 185.0 \n",
      "\n"
     ]
    }
   ],
   "source": [
    "for i in range(5):\n",
    "    temp = eval(input('Please Enter a Temperature in Celsius:'))\n",
    "    print('Converted Temp in Farhenheit is', 9/5 * temp + 32, '\\n')"
   ]
  },
  {
   "cell_type": "code",
   "execution_count": 34,
   "metadata": {},
   "outputs": [
    {
     "name": "stdout",
     "output_type": "stream",
     "text": [
      "Please Enter a Temperature in Celsius:45\n",
      "Converted Temp in Farhenheit is 113.0 \n",
      "\n",
      "Please Enter a Temperature in Celsius:55\n",
      "Converted Temp in Farhenheit is 131.0 \n",
      "\n",
      "Please Enter a Temperature in Celsius:695\n",
      "Converted Temp in Farhenheit is 1283.0 \n",
      "\n",
      "Please Enter a Temperature in Celsius:-1000\n",
      "Converted Temp in Farhenheit is -1768.0 \n",
      "\n"
     ]
    }
   ],
   "source": [
    "temp = 0\n",
    "while temp != -1000:\n",
    "    temp = eval(input('Please Enter a Temperature in Celsius:'))\n",
    "    print('Converted Temp in Farhenheit is', 9/5 * temp + 32, '\\n')"
   ]
  },
  {
   "cell_type": "code",
   "execution_count": 37,
   "metadata": {},
   "outputs": [
    {
     "name": "stdout",
     "output_type": "stream",
     "text": [
      "0 is an even number\n"
     ]
    }
   ],
   "source": [
    "for i in range(15):\n",
    "    if i % 2 == 0:\n",
    "        print(i, 'is an even number')\n",
    "        break\n",
    "    else:\n",
    "        print(i, 'is an Odd number')\n",
    "else:\n",
    "    print('Loop is Executed')"
   ]
  },
  {
   "cell_type": "code",
   "execution_count": 38,
   "metadata": {},
   "outputs": [],
   "source": [
    "from random import randint\n",
    "rand = randint(1,10)"
   ]
  },
  {
   "cell_type": "code",
   "execution_count": 40,
   "metadata": {},
   "outputs": [
    {
     "name": "stdout",
     "output_type": "stream",
     "text": [
      "Please Guess a Number between 1 to 10:5\n",
      "Guess Higher 4 Chances Left\n",
      "Please Guess a Number between 1 to 10:7\n",
      "Guess Higher 3 Chances Left\n",
      "Please Guess a Number between 1 to 10:8\n",
      "You have found it right\n",
      "Please Guess a Number between 1 to 10:12\n",
      "Guess lesser 1 Chances Left\n",
      "Please Guess a Number between 1 to 10:12\n",
      "Guess lesser 0 Chances Left\n",
      "Bad Luck,the correct number is 8\n"
     ]
    }
   ],
   "source": [
    "for i in range(5):\n",
    "    guess = eval(input('Please Guess a Number between 1 to 10:'))\n",
    "    if rand == guess:\n",
    "        print('You have found it right')\n",
    "    elif rand < guess:\n",
    "        print(\"Guess lesser\", 4 - i, 'Chances Left')\n",
    "    elif rand > guess:\n",
    "        print(\"Guess Higher\", 4 - i, 'Chances Left')\n",
    "else:\n",
    "    print('Bad Luck,the correct number is', rand)"
   ]
  },
  {
   "cell_type": "code",
   "execution_count": 44,
   "metadata": {},
   "outputs": [
    {
     "name": "stdout",
     "output_type": "stream",
     "text": [
      "Please Guess a Number between 1 to 10:15\n",
      "Guess lesser 4 Chances Left\n",
      "Please Guess a Number between 1 to 10:20\n",
      "Guess lesser 3 Chances Left\n",
      "Please Guess a Number between 1 to 10:25\n",
      "Guess lesser 2 Chances Left\n",
      "Please Guess a Number between 1 to 10:32\n",
      "Guess lesser 1 Chances Left\n",
      "Please Guess a Number between 1 to 10:45\n",
      "Guess lesser 0 Chances Left\n",
      "Bad Luck, the right Output is 8\n"
     ]
    }
   ],
   "source": [
    "num_chances = 0\n",
    "while guess != rand and num_chances < 5:\n",
    "    guess = eval(input('Please Guess a Number between 1 to 10:'))\n",
    "    if rand == guess:\n",
    "        print('You have found it right')\n",
    "    elif rand < guess:\n",
    "        print(\"Guess lesser\", 4 - num_chances, 'Chances Left')\n",
    "    elif rand > guess:\n",
    "        print(\"Guess Higher\", 4 - num_chances, 'Chances Left')\n",
    "    num_chances += 1\n",
    "print('Bad Luck, the right Output is', rand)"
   ]
  },
  {
   "cell_type": "code",
   "execution_count": 45,
   "metadata": {},
   "outputs": [],
   "source": [
    "# Break"
   ]
  },
  {
   "cell_type": "code",
   "execution_count": 66,
   "metadata": {},
   "outputs": [
    {
     "name": "stdout",
     "output_type": "stream",
     "text": [
      "Even Number\n",
      "1\n",
      "Even Number\n",
      "3\n",
      "Even Number\n",
      "5\n",
      "Even Number\n",
      "Even Number\n",
      "9\n"
     ]
    }
   ],
   "source": [
    "for i in range(10):\n",
    "    if i % 2 == 0:\n",
    "        print('Even Number')\n",
    "    elif i == 7:\n",
    "        continue\n",
    "    else:\n",
    "        print(i)      "
   ]
  },
  {
   "cell_type": "code",
   "execution_count": 49,
   "metadata": {},
   "outputs": [
    {
     "name": "stdout",
     "output_type": "stream",
     "text": [
      "Please Guess a Number between 1 to 10:5\n",
      "Guess Higher 4 Chances Left\n",
      "Please Guess a Number between 1 to 10:6\n",
      "Guess Higher 3 Chances Left\n",
      "Please Guess a Number between 1 to 10:8\n",
      "You have found it right\n"
     ]
    }
   ],
   "source": [
    "for i in range(5):\n",
    "    guess = eval(input('Please Guess a Number between 1 to 10:'))\n",
    "    if rand == guess:\n",
    "        print('You have found it right')\n",
    "        break\n",
    "    elif rand < guess:\n",
    "        print(\"Guess lesser\", 4 - i, 'Chances Left')\n",
    "    elif rand > guess:\n",
    "        print(\"Guess Higher\", 4 - i, 'Chances Left')\n",
    "else:\n",
    "    print('Bad Luck,the correct number is', rand)"
   ]
  },
  {
   "cell_type": "code",
   "execution_count": 67,
   "metadata": {},
   "outputs": [
    {
     "name": "stdout",
     "output_type": "stream",
     "text": [
      "3\n",
      "4\n",
      "5\n",
      "6\n",
      "7\n",
      "8\n",
      "9\n"
     ]
    }
   ],
   "source": [
    "for i in range(10):\n",
    "    if i > 2:\n",
    "        print(i)\n",
    "    elif i == 2:\n",
    "        continue"
   ]
  },
  {
   "cell_type": "code",
   "execution_count": 81,
   "metadata": {},
   "outputs": [
    {
     "ename": "KeyboardInterrupt",
     "evalue": "",
     "output_type": "error",
     "traceback": [
      "\u001b[1;31m---------------------------------------------------------------------------\u001b[0m",
      "\u001b[1;31mKeyboardInterrupt\u001b[0m                         Traceback (most recent call last)",
      "\u001b[1;32m<ipython-input-81-62b3cfc7c13f>\u001b[0m in \u001b[0;36m<module>\u001b[1;34m\u001b[0m\n\u001b[0;32m      4\u001b[0m         \u001b[0mtemp\u001b[0m \u001b[1;33m=\u001b[0m \u001b[0meval\u001b[0m\u001b[1;33m(\u001b[0m\u001b[0minput\u001b[0m\u001b[1;33m(\u001b[0m\u001b[1;34m'Please Enter a Temperature in Celsius:'\u001b[0m\u001b[1;33m)\u001b[0m\u001b[1;33m)\u001b[0m\u001b[1;33m\u001b[0m\u001b[1;33m\u001b[0m\u001b[0m\n\u001b[0;32m      5\u001b[0m         \u001b[0mprint\u001b[0m\u001b[1;33m(\u001b[0m\u001b[1;34m'Converted Temp in Farhenheit is'\u001b[0m\u001b[1;33m,\u001b[0m \u001b[1;36m9\u001b[0m\u001b[1;33m/\u001b[0m\u001b[1;36m5\u001b[0m \u001b[1;33m*\u001b[0m \u001b[0mtemp\u001b[0m \u001b[1;33m+\u001b[0m \u001b[1;36m32\u001b[0m\u001b[1;33m,\u001b[0m \u001b[1;34m'\\n'\u001b[0m\u001b[1;33m)\u001b[0m\u001b[1;33m\u001b[0m\u001b[1;33m\u001b[0m\u001b[0m\n\u001b[1;32m----> 6\u001b[1;33m     \u001b[1;32melif\u001b[0m \u001b[0mtemp\u001b[0m \u001b[1;33m>\u001b[0m \u001b[1;36m0\u001b[0m\u001b[1;33m:\u001b[0m\u001b[1;33m\u001b[0m\u001b[1;33m\u001b[0m\u001b[0m\n\u001b[0m\u001b[0;32m      7\u001b[0m         \u001b[1;32mbreak\u001b[0m\u001b[1;33m\u001b[0m\u001b[1;33m\u001b[0m\u001b[0m\n",
      "\u001b[1;31mKeyboardInterrupt\u001b[0m: "
     ]
    }
   ],
   "source": [
    "temp = 0\n",
    "while True:\n",
    "    if temp < 0:\n",
    "        temp = eval(input('Please Enter a Temperature in Celsius:'))\n",
    "        print('Converted Temp in Farhenheit is', 9/5 * temp + 32, '\\n')\n",
    "    elif temp > 0:\n",
    "        break"
   ]
  },
  {
   "cell_type": "code",
   "execution_count": 19,
   "metadata": {},
   "outputs": [
    {
     "name": "stdout",
     "output_type": "stream",
     "text": [
      "Please enter a number between 2 to 100:43\n",
      "Prime Number\n"
     ]
    }
   ],
   "source": [
    "# Prime Numbers\n",
    "\n",
    "num = eval(input('Please enter a number between 2 to 100:'))\n",
    "\n",
    "for i in range(2, num):\n",
    "    if num % i == 0:\n",
    "        print('It is not a Prime Number')\n",
    "        break\n",
    "else:\n",
    "    print(\"Prime Number\")"
   ]
  }
 ],
 "metadata": {
  "kernelspec": {
   "display_name": "Python 3",
   "language": "python",
   "name": "python3"
  },
  "language_info": {
   "codemirror_mode": {
    "name": "ipython",
    "version": 3
   },
   "file_extension": ".py",
   "mimetype": "text/x-python",
   "name": "python",
   "nbconvert_exporter": "python",
   "pygments_lexer": "ipython3",
   "version": "3.7.4"
  }
 },
 "nbformat": 4,
 "nbformat_minor": 2
}
