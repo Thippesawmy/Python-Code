{
 "cells": [
  {
   "cell_type": "markdown",
   "metadata": {},
   "source": [
    "#### Three Approaches\n",
    "1. Creating Database files using Python - sqlite3\n",
    "2. Connecting with a existing Database - MySQL\n",
    "3. Connecting with an unknown database - SQL Server - PyODBC"
   ]
  },
  {
   "cell_type": "code",
   "execution_count": null,
   "metadata": {},
   "outputs": [],
   "source": [
    "# !pip install sqlite3"
   ]
  },
  {
   "cell_type": "code",
   "execution_count": 1,
   "metadata": {},
   "outputs": [
    {
     "data": {
      "text/plain": [
       "'C:\\\\Users\\\\91965\\\\Documents\\\\Besant\\\\Python Programming\\\\Jan Batch'"
      ]
     },
     "execution_count": 1,
     "metadata": {},
     "output_type": "execute_result"
    }
   ],
   "source": [
    "import os\n",
    "os.getcwd()"
   ]
  },
  {
   "cell_type": "code",
   "execution_count": 2,
   "metadata": {},
   "outputs": [],
   "source": [
    "import sqlite3 as sql\n",
    "\n",
    "connection = sql.connect('newdatabase.db')\n",
    "\n",
    "crsr = connection.cursor() #bridgss connection between Database & Python\n",
    "\n",
    "create_table = \"\"\"create table employee(\n",
    "firstname varchar(50),\n",
    "lastname varchar(50),\n",
    "gender char(1),\n",
    "salary float(15)\n",
    ")\"\"\"\n",
    "\n",
    "crsr.execute(create_table)\n",
    "\n",
    "value1 = \"\"\"insert into employee values('Gowtham', 'Kumar', 'M', 55.5)\"\"\"\n",
    "crsr.execute(value1)\n",
    "\n",
    "value2 = \"\"\"insert into employee values('Varun', 'Kumar', 'M', 75.5)\"\"\"\n",
    "crsr.execute(value2)\n",
    "\n",
    "connection.commit()\n",
    "\n",
    "connection.close()"
   ]
  },
  {
   "cell_type": "code",
   "execution_count": 3,
   "metadata": {},
   "outputs": [
    {
     "name": "stdout",
     "output_type": "stream",
     "text": [
      "Gowtham\n",
      "Kumar\n",
      "M\n",
      "55.5\n"
     ]
    }
   ],
   "source": [
    "conn = sql.connect('newdatabase.db')\n",
    "crsr = conn.cursor()\n",
    "\n",
    "retrievevalues = \"\"\"Select * from employee\"\"\"\n",
    "crsr.execute(retrievevalues)\n",
    "\n",
    "output = crsr.fetchone()\n",
    "\n",
    "for i in output:\n",
    "    print(i)"
   ]
  },
  {
   "cell_type": "code",
   "execution_count": 4,
   "metadata": {},
   "outputs": [
    {
     "name": "stdout",
     "output_type": "stream",
     "text": [
      "('Gowtham', 'Kumar', 'M', 55.5)\n",
      "('Varun', 'Kumar', 'M', 75.5)\n"
     ]
    }
   ],
   "source": [
    "conn = sql.connect('newdatabase.db')\n",
    "crsr = conn.cursor()\n",
    "\n",
    "crsr.execute(\"\"\"Select * from employee\"\"\")\n",
    "\n",
    "output = crsr.fetchall()\n",
    "\n",
    "for i in output:\n",
    "    print(i)"
   ]
  },
  {
   "cell_type": "code",
   "execution_count": 5,
   "metadata": {},
   "outputs": [
    {
     "name": "stdout",
     "output_type": "stream",
     "text": [
      "Number of Changed Rows: 2\n",
      "('Devi', 'Kumar', 'F', 55.5)\n",
      "('Varun', 'Kumar', 'M', 75.5)\n"
     ]
    }
   ],
   "source": [
    "# Updation & Deletion Operation\n",
    "\n",
    "conn = sql.connect('newdatabase.db')\n",
    "crsr = conn.cursor()\n",
    "\n",
    "crsr.execute(\"\"\"update employee set firstname = 'Devi' where firstname = 'Gowtham'\"\"\")\n",
    "crsr.execute(\"\"\"update employee set gender = 'F' where firstname = 'Devi'\"\"\")\n",
    "conn.commit()\n",
    "\n",
    "print('Number of Changed Rows:', conn.total_changes)\n",
    "\n",
    "output = crsr.execute('Select * from employee')\n",
    "\n",
    "for i in output:\n",
    "    print(i)"
   ]
  },
  {
   "cell_type": "code",
   "execution_count": 7,
   "metadata": {},
   "outputs": [
    {
     "name": "stdout",
     "output_type": "stream",
     "text": [
      "Number of Changed Rows: 1\n",
      "('Varun', 'Kumar', 'M', 75.5)\n"
     ]
    }
   ],
   "source": [
    "# Updation & Deletion Operation\n",
    "\n",
    "conn = sql.connect('newdatabase.db')\n",
    "crsr = conn.cursor()\n",
    "\n",
    "crsr.execute(\"\"\"delete from employee where firstname = 'Devi'\"\"\")\n",
    "conn.commit()\n",
    "\n",
    "print('Number of Changed Rows:', conn.total_changes)\n",
    "\n",
    "output = crsr.execute('Select * from employee')\n",
    "\n",
    "for i in output:\n",
    "    print(i)"
   ]
  },
  {
   "cell_type": "code",
   "execution_count": 8,
   "metadata": {},
   "outputs": [
    {
     "name": "stdout",
     "output_type": "stream",
     "text": [
      "('Varun', 'Kumar', 'M', 75.5)\n",
      "('Gowtham', 'Kumar', 'M', 45.5)\n"
     ]
    }
   ],
   "source": [
    "conn = sql.connect('newdatabase.db')\n",
    "crsr = conn.cursor()\n",
    "\n",
    "value1 = \"\"\"insert into employee values('Gowtham', 'Kumar', 'M', 45.5)\"\"\"\n",
    "crsr.execute(value1)\n",
    "conn.commit()\n",
    "\n",
    "output = crsr.execute('Select * from employee')\n",
    "\n",
    "for i in output:\n",
    "    print(i)"
   ]
  },
  {
   "cell_type": "code",
   "execution_count": 9,
   "metadata": {},
   "outputs": [
    {
     "name": "stdout",
     "output_type": "stream",
     "text": [
      "Number of Changed Rows: 1\n",
      "('Varun', 'Kumar', 'M', 75.5)\n"
     ]
    }
   ],
   "source": [
    "conn = sql.connect('newdatabase.db')\n",
    "crsr = conn.cursor()\n",
    "\n",
    "conn.execute(\"\"\"Delete from employee where firstname = 'Gowtham'\"\"\")\n",
    "conn.commit()\n",
    "\n",
    "print('Number of Changed Rows:', conn.total_changes)\n",
    "\n",
    "output = crsr.execute('Select * from employee')\n",
    "\n",
    "for i in output:\n",
    "    print(i)"
   ]
  },
  {
   "cell_type": "code",
   "execution_count": 11,
   "metadata": {},
   "outputs": [
    {
     "name": "stdout",
     "output_type": "stream",
     "text": [
      "Enter 5 Names:\n",
      "A\n",
      "B\n",
      "C\n",
      "D\n",
      "E\n",
      "Enter their Age:\n",
      "18\n",
      "19\n",
      "20\n",
      "21\n",
      "22\n",
      "Enter their Designation:\n",
      "SD\n",
      "SD\n",
      "DA\n",
      "DS\n",
      "TD\n",
      "[('A', 18, 'SD')]\n",
      "[('A', 18, 'SD'), ('B', 19, 'SD')]\n",
      "[('A', 18, 'SD'), ('B', 19, 'SD'), ('C', 20, 'DA')]\n",
      "[('A', 18, 'SD'), ('B', 19, 'SD'), ('C', 20, 'DA'), ('D', 21, 'DS')]\n",
      "[('A', 18, 'SD'), ('B', 19, 'SD'), ('C', 20, 'DA'), ('D', 21, 'DS'), ('E', 22, 'TD')]\n"
     ]
    }
   ],
   "source": [
    "conn = sql.connect('newdatabase.db')\n",
    "crsr = conn.cursor()\n",
    "crsr.execute(\"\"\"Create table demogag2(name, age, designation)\"\"\")\n",
    "\n",
    "print('Enter 5 Names:')\n",
    "name = [input() for i in range(5)]\n",
    "print('Enter their Age:')\n",
    "age = [int(input()) for i in range(5)]\n",
    "print('Enter their Designation:')\n",
    "designation = [input() for i in range(5)]\n",
    "\n",
    "for i in range(5):\n",
    "    \n",
    "    crsr.execute(\"\"\"Insert into demogag2 values (?,?,?)\"\"\", (name[i], age[i], designation[i]))\n",
    "    \n",
    "    crsr.execute('Select * from demogag2')\n",
    "    \n",
    "    print(crsr.fetchall())"
   ]
  },
  {
   "cell_type": "code",
   "execution_count": null,
   "metadata": {},
   "outputs": [],
   "source": [
    "conn.close()"
   ]
  },
  {
   "cell_type": "code",
   "execution_count": 12,
   "metadata": {},
   "outputs": [
    {
     "name": "stdout",
     "output_type": "stream",
     "text": [
      "[('Smith', 'Steve', 15, 75)]\n"
     ]
    }
   ],
   "source": [
    "conn = sql.connect('newdatabase.db')\n",
    "\n",
    "crsr = conn.cursor()\n",
    "\n",
    "crsr.executescript(\"\"\"\n",
    "create table student(\n",
    "firstname,\n",
    "lastname,\n",
    "age,\n",
    "class);\n",
    "\n",
    "create table teachers(\n",
    "firstname,\n",
    "lastname,\n",
    "experience,\n",
    "salary\n",
    ");\n",
    "\n",
    "insert into teachers values('Smith', 'Steve', 15, 75);\n",
    "\"\"\")\n",
    "\n",
    "sql = \"Select * from teachers\"\n",
    "\n",
    "crsr.execute(sql)\n",
    "\n",
    "output = crsr.fetchall()\n",
    "\n",
    "print(output)\n",
    "\n",
    "conn.commit()\n",
    "\n",
    "conn.close()"
   ]
  },
  {
   "cell_type": "code",
   "execution_count": 13,
   "metadata": {},
   "outputs": [
    {
     "name": "stdout",
     "output_type": "stream",
     "text": [
      "('A', 'AA', 18, 55)\n",
      "('B', 'BB', 25, 75)\n",
      "('C', 'CC', 38, 105)\n"
     ]
    }
   ],
   "source": [
    "# executemany()\n",
    "\n",
    "import sqlite3 as sql\n",
    "\n",
    "conn = sql.connect('newdatabase.db')\n",
    "\n",
    "crsr = conn.cursor()\n",
    "\n",
    "a = [('A', 'AA', 18, 55), ('B', 'BB', 25, 75), ('C', 'CC', 38, 105)]\n",
    "\n",
    "crsr.executemany(\"\"\"insert into student values(?, ?, ?, ?)\"\"\", a)\n",
    "\n",
    "crsr.execute(\"Select * from student\")\n",
    "\n",
    "output = crsr.fetchall()\n",
    "\n",
    "for i in output:\n",
    "    print(i)\n",
    "    \n",
    "conn.commit()\n",
    "\n",
    "conn.close()"
   ]
  },
  {
   "cell_type": "code",
   "execution_count": 18,
   "metadata": {},
   "outputs": [
    {
     "name": "stdout",
     "output_type": "stream",
     "text": [
      "('employee',)\n",
      "('demogag4',)\n",
      "('demogag2',)\n",
      "('student',)\n",
      "('teachers',)\n"
     ]
    }
   ],
   "source": [
    "conn = sql.connect('newdatabase.db')\n",
    "\n",
    "crsr = conn.cursor()\n",
    "\n",
    "crsr.execute('SELECT name from sqlite_master where type= \"table\"')\n",
    "\n",
    "output = crsr.fetchall()\n",
    "\n",
    "for i in output:\n",
    "    print(i)"
   ]
  },
  {
   "cell_type": "code",
   "execution_count": 19,
   "metadata": {},
   "outputs": [],
   "source": [
    "# MySQL Connection - mysql.connector\n",
    "\n",
    "import mysql.connector as ms"
   ]
  },
  {
   "cell_type": "code",
   "execution_count": 20,
   "metadata": {},
   "outputs": [
    {
     "name": "stdout",
     "output_type": "stream",
     "text": [
      "<mysql.connector.connection_cext.CMySQLConnection object at 0x000001FC4BA01148>\n",
      "('information_schema',)\n",
      "('mysql',)\n",
      "('performance_schema',)\n",
      "('practise',)\n",
      "('sakila',)\n",
      "('sys',)\n"
     ]
    }
   ],
   "source": [
    "mydb = ms.connect(\n",
    "host = 'localhost',\n",
    "    user = 'root',\n",
    "    passwd = 'Muthuyuvan@05')\n",
    "    \n",
    "print(mydb)\n",
    "    \n",
    "crsr = mydb.cursor()\n",
    "    \n",
    "crsr.execute('show databases')\n",
    "\n",
    "for i in crsr:\n",
    "    print(i)"
   ]
  },
  {
   "cell_type": "code",
   "execution_count": 25,
   "metadata": {},
   "outputs": [
    {
     "name": "stdout",
     "output_type": "stream",
     "text": [
      "('Nick Rimando', 8870.86)\n",
      "('Geoff Camero', 2590.9)\n",
      "('Brad Davis', 2400.6)\n",
      "('Fabian Johns', 1983.43)\n",
      "('Graham Zusi', 1059.0)\n",
      "('Brad Guzan', 270.65)\n",
      "('Julian Green', 250.45)\n"
     ]
    }
   ],
   "source": [
    "mydb = ms.connect(\n",
    "host = 'localhost',\n",
    "    user = 'root',\n",
    "    passwd = 'Muthuyuvan@05',\n",
    "database = 'practise')\n",
    "\n",
    "crsr = mydb.cursor()\n",
    "    \n",
    "crsr.execute(\"\"\"select b.cust_name as 'Customer Name', \n",
    "sum(a.purch_amt)  as 'Money Spent'\n",
    "from Orders a \n",
    "join customers b\n",
    "on a.customer_id = b.customer_id\n",
    "group by b.cust_name \n",
    "having sum(a.purch_amt) > 200\n",
    "order by sum(a.purch_amt) desc\"\"\")\n",
    "\n",
    "output = crsr.fetchall()\n",
    "\n",
    "for i in output:\n",
    "    print(i)"
   ]
  },
  {
   "cell_type": "code",
   "execution_count": 28,
   "metadata": {},
   "outputs": [],
   "source": [
    "mydb = ms.connect(\n",
    "host = 'localhost',\n",
    "    user = 'root',\n",
    "    passwd = 'Muthuyuvan@05',\n",
    "database = 'sakila')\n",
    "\n",
    "crsr = mydb.cursor()\n",
    "\n",
    "crsr.execute(\"\"\"create table students2(\n",
    "firstname varchar(50), lastname varchar(50), age int(3), salary int(5))\"\"\")\n",
    "\n",
    "a = [('A', 'AA', 18, 55), ('B', 'BB', 25, 75), ('C', 'CC', 38, 105)]\n",
    "\n",
    "crsr.executemany(\"\"\"insert into new6 values(%s, %s, %s, %s)\"\"\", a)\n",
    "\n",
    "crsr.execute(\"Select * from students2\")\n",
    "\n",
    "output = crsr.fetchall()\n",
    "\n",
    "for i in output:\n",
    "    print(i)\n",
    "    \n",
    "mydb.commit()"
   ]
  },
  {
   "cell_type": "code",
   "execution_count": 29,
   "metadata": {},
   "outputs": [],
   "source": [
    "# ODBC Connections\n",
    "\n",
    "import pyodbc as od"
   ]
  },
  {
   "cell_type": "code",
   "execution_count": 30,
   "metadata": {},
   "outputs": [
    {
     "name": "stdout",
     "output_type": "stream",
     "text": [
      "('70001', 'Nail Knite', 'Graham Zusi', Decimal('150.50'), Decimal('19.5650'))\n",
      "('70002', 'James Hoog', ' Nick Rimando', Decimal('65.26'), Decimal('9.7890'))\n",
      "('70005', 'James Hoog', 'Brad Davis ', Decimal('2400.60'), Decimal('360.0900'))\n",
      "('70007', 'Nail Knite', 'Graham Zusi', Decimal('948.50'), Decimal('123.3050'))\n",
      "('70008', 'James Hoog', ' Nick Rimando', Decimal('5760.00'), Decimal('864.0000'))\n",
      "('70010', 'Mc Lyon', 'Fabian Johns', Decimal('1983.43'), Decimal('277.6802'))\n",
      "('70012', 'Nail Knite', 'Julian Green', Decimal('250.45'), Decimal('32.5585'))\n",
      "('70013', 'James Hoog', ' Nick Rimando', Decimal('3045.60'), Decimal('456.8400'))\n"
     ]
    }
   ],
   "source": [
    "conn = od.connect(\"Driver={SQL Server Native Client 11.0};\"\n",
    "                 \"Server=LAPTOP-LFBVI1JS\\SQLEXPRESS;\"\n",
    "                 \"Database=master;\"\n",
    "                 \"Trusted_Connection=yes;\")\n",
    "\n",
    "crsr = conn.cursor()\n",
    "\n",
    "output = crsr.execute(\"\"\"select a.ord_no as 'Order Id', \n",
    "c.name as 'Salesman', b.cust_name as 'Customer Name',\n",
    "sum(a.purch_amt) as 'Sales', sum(a.purch_amt) * c.commission as 'Commission'\n",
    "from Orders a\n",
    "join Customers b\n",
    "on a.customer_id = b.customer_id\n",
    "join Salesman c\n",
    "on a.salesman_id = c.salesman_id\n",
    "group by a.ord_no, c.name, b.cust_name, c.commission\"\"\")\n",
    "\n",
    "for i in output:\n",
    "    print(i)\n"
   ]
  },
  {
   "cell_type": "code",
   "execution_count": null,
   "metadata": {},
   "outputs": [],
   "source": []
  }
 ],
 "metadata": {
  "kernelspec": {
   "display_name": "Python 3",
   "language": "python",
   "name": "python3"
  },
  "language_info": {
   "codemirror_mode": {
    "name": "ipython",
    "version": 3
   },
   "file_extension": ".py",
   "mimetype": "text/x-python",
   "name": "python",
   "nbconvert_exporter": "python",
   "pygments_lexer": "ipython3",
   "version": "3.7.4"
  }
 },
 "nbformat": 4,
 "nbformat_minor": 2
}
