{
 "cells": [
  {
   "cell_type": "markdown",
   "metadata": {},
   "source": [
    "* A Regular Expression (RegEx) is a sequence of characters that defines a search pattern. \n",
    "    * For example \"^a...s$\"\n",
    "    * The above code defines a RegEx pattern. The pattern is: any five letter string starting with a and ending with s\n"
   ]
  },
  {
   "cell_type": "code",
   "execution_count": null,
   "metadata": {},
   "outputs": [],
   "source": [
    "import re\n",
    "\n",
    "pattern = '^a...s$'\n",
    "test_string = 'abyss'\n",
    "result = re.match(pattern, test_string)\n",
    "\n",
    "if result:\n",
    "  print(\"Search successful\")\n",
    "else:\n",
    "  print(\"Search unsuccessful\")"
   ]
  },
  {
   "cell_type": "code",
   "execution_count": null,
   "metadata": {},
   "outputs": [],
   "source": [
    "# MetaCharacters\n",
    "# Metacharacters are characters that are interpreted in a special way by a RegEx engine. \n",
    "# Here's a list of metacharacters:\n",
    "\n",
    "# [] . ^ $ * + ? {} () \\ |"
   ]
  },
  {
   "cell_type": "code",
   "execution_count": null,
   "metadata": {},
   "outputs": [],
   "source": [
    "[] - Square brackets\n",
    "\n",
    "Square brackets specifies a set of characters you wish to match.\n",
    "\n",
    "Expression\tString\tMatched?\n",
    "[abc]\ta\t1 match\n",
    "ac\t2 matches\n",
    "Hey Jude\tNo match\n",
    "abc de ca\t5 matches\n",
    "\n",
    "Here, [abc] will match if the string you are trying to match contains any of the a, b or c.\n",
    "\n",
    "You can also specify a range of characters using - inside square brackets.\n",
    "\n",
    "[a-e] is the same as [abcde].\n",
    "[1-4] is the same as [1234].\n",
    "[0-39] is the same as [01239].\n",
    "\n",
    "You can complement (invert) the character set by using caret ^ symbol at the start of a square-bracket.\n",
    "\n",
    "[^abc] means any character except a or b or c.\n",
    "[^0-9] means any non-digit character."
   ]
  },
  {
   "cell_type": "code",
   "execution_count": null,
   "metadata": {},
   "outputs": [],
   "source": [
    "+ - Plus\n",
    "\n",
    "The plus symbol + matches one or more occurrences of the pattern left to it.\n",
    "\n",
    "Expression\tString\tMatched?\n",
    "\n",
    "ma+n\tmn\tNo match (no a character)\n",
    "man\t1 match\n",
    "maaan\t1 match\n",
    "main\tNo match (a is not followed by n)\n",
    "woman\t1 match"
   ]
  },
  {
   "cell_type": "code",
   "execution_count": null,
   "metadata": {},
   "outputs": [],
   "source": [
    "^ - Caret\n",
    "\n",
    "The caret symbol ^ is used to check if a string starts with a certain character.\n",
    "\n",
    "Expression\tString\tMatched?\n",
    "\n",
    "^a\ta\t1 match\n",
    "abc\t1 match\n",
    "bac\tNo match\n",
    "^ab\tabc\t1 match\n",
    "acb\tNo match (starts with a but not followed by b)"
   ]
  },
  {
   "cell_type": "code",
   "execution_count": null,
   "metadata": {},
   "outputs": [],
   "source": [
    "$ - Dollar\n",
    "\n",
    "The dollar symbol $ is used to check if a string ends with a certain character.\n",
    "\n",
    "Expression\tString\tMatched?\n",
    "\n",
    "a$\ta\t1 match\n",
    "formula\t1 match\n",
    "cab\tNo match"
   ]
  },
  {
   "cell_type": "code",
   "execution_count": null,
   "metadata": {},
   "outputs": [],
   "source": [
    "? - Question Mark\n",
    "\n",
    "The question mark symbol ? matches zero or one occurrence of the pattern left to it.\n",
    "\n",
    "Expression\tString\tMatched?\n",
    "\n",
    "ma?n\tmn\t1 match\n",
    "man\t1 match\n",
    "maaan\tNo match (more than one a character)\n",
    "main\tNo match (a is not followed by n)\n",
    "woman\t1 match"
   ]
  },
  {
   "cell_type": "code",
   "execution_count": null,
   "metadata": {},
   "outputs": [],
   "source": [
    "{} - Braces\n",
    "\n",
    "Consider this code: {n,m}. This means at least n, and at most m repetitions of the pattern left to it.\n",
    "\n",
    "Expression\tString\tMatched?\n",
    "\n",
    "a{2,3}\tabc dat\tNo match\n",
    "abc daat\t1 match (at daat)\n",
    "aabc daaat\t2 matches (at aabc and daaat)\n",
    "aabc daaaat\t2 matches (at aabc and daaaat)\n",
    "\n",
    "Let's try one more example. This RegEx [0-9]{2, 4} matches at least 2 digits but not more than 4 digits\n",
    "\n",
    "Expression\tString\tMatched?\n",
    "\n",
    "[0-9]{2,4}\tab123csde\t1 match (match at ab123csde)\n",
    "12 and 345673\t3 matches (12, 3456, 73)\n",
    "1 and 2\tNo match"
   ]
  },
  {
   "cell_type": "code",
   "execution_count": null,
   "metadata": {},
   "outputs": [],
   "source": [
    "| - Alternation\n",
    "\n",
    "Vertical bar | is used for alternation (or operator).\n",
    "\n",
    "Expression\tString\tMatched?\n",
    "\n",
    "a|b\tcde\tNo match\n",
    "ade\t1 match (match at ade)\n",
    "acdbea\t3 matches (at acdbea)\n",
    "Here, a|b match any string that contains either a or b"
   ]
  },
  {
   "cell_type": "code",
   "execution_count": null,
   "metadata": {},
   "outputs": [],
   "source": [
    "() - Group\n",
    "\n",
    "Parentheses () is used to group sub-patterns. For example, \n",
    "(a|b|c)xz match any string that matches either a or b or c followed by xz\n",
    "\n",
    "Expression\tString\tMatched?\n",
    "\n",
    "(a|b|c)xz\tab xz\tNo match\n",
    "abxz\t1 match (match at abxz)\n",
    "axz cabxz\t2 matches (at axzbc cabxz)"
   ]
  },
  {
   "cell_type": "code",
   "execution_count": null,
   "metadata": {},
   "outputs": [],
   "source": [
    "\\ - Backslash\n",
    "\n",
    "Backlash \\ is used to escape various characters including all metacharacters. \n",
    "\n",
    "For example,\n",
    "\n",
    "\\$a match if a string contains $ followed by a. Here, $ is not interpreted by a RegEx engine in a special way.\n",
    "\n",
    "If you are unsure if a character has special meaning or not, you can put \\ in front of it.\n",
    "This makes sure the character is not treated in a special way."
   ]
  },
  {
   "cell_type": "markdown",
   "metadata": {},
   "source": [
    "# Special Sequences\n",
    "\n",
    "Special sequences make commonly used patterns easier to write. Here's a list of special sequences:"
   ]
  },
  {
   "cell_type": "code",
   "execution_count": null,
   "metadata": {},
   "outputs": [],
   "source": [
    "\\A - Matches if the specified characters are at the start of a string.\n",
    "\n",
    "Expression\tString\tMatched?\n",
    "\n",
    "\\Athe\tthe sun\tMatch\n",
    "In the sun\tNo match"
   ]
  },
  {
   "cell_type": "code",
   "execution_count": null,
   "metadata": {},
   "outputs": [],
   "source": [
    "\\b - Matches if the specified characters are at the beginning or end of a word.\n",
    "\n",
    "Expression\tString\tMatched?\n",
    "\n",
    "\\bfoo\tfootball\tMatch\n",
    "a football\tMatch\n",
    "afootball\tNo match\n",
    "foo\\b\tthe foo\tMatch\n",
    "the afoo test\tMatch\n",
    "the afootest\tNo match"
   ]
  },
  {
   "cell_type": "code",
   "execution_count": null,
   "metadata": {},
   "outputs": [],
   "source": [
    "\\B - Opposite of \\b. Matches if the specified characters are not at the beginning or end of a word.\n",
    "\n",
    "Expression\tString\tMatched?\n",
    "\n",
    "\\Bfoo\tfootball\tNo match\n",
    "a football\tNo match\n",
    "afootball\tMatch\n",
    "foo\\B\tthe foo\tNo match\n",
    "the afoo test\tNo match\n",
    "the afootest\tMatch"
   ]
  },
  {
   "cell_type": "code",
   "execution_count": null,
   "metadata": {},
   "outputs": [],
   "source": [
    "\\d - Matches any decimal digit. Equivalent to [0-9]\n",
    "\n",
    "Expression\tString\tMatched?\n",
    "\n",
    "\\d\t12abc3\t3 matches (at 12abc3)\n",
    "Python\tNo match"
   ]
  },
  {
   "cell_type": "code",
   "execution_count": null,
   "metadata": {},
   "outputs": [],
   "source": [
    "\\D - Matches any non-decimal digit. Equivalent to [^0-9]\n",
    "\n",
    "Expression\tString\tMatched?\n",
    "\n",
    "\\D\t1ab34\"50\t3 matches (at 1ab34\"50)\n",
    "1345\tNo match"
   ]
  },
  {
   "cell_type": "code",
   "execution_count": null,
   "metadata": {},
   "outputs": [],
   "source": [
    "\\s - Matches where a string contains any whitespace character. Equivalent to [ \\t\\n\\r\\f\\v].\n",
    "\n",
    "Expression\tString\tMatched?\n",
    "\n",
    "\\s\tPython RegEx\t1 match\n",
    "PythonRegEx\tNo match"
   ]
  },
  {
   "cell_type": "code",
   "execution_count": null,
   "metadata": {},
   "outputs": [],
   "source": [
    "\\S - Matches where a string contains any non-whitespace character. Equivalent to [^ \\t\\n\\r\\f\\v].\n",
    "\n",
    "Expression\tString\tMatched?\n",
    "\n",
    "\\S\ta b\t2 matches (at  a b)\n",
    "   \tNo match"
   ]
  },
  {
   "cell_type": "code",
   "execution_count": null,
   "metadata": {},
   "outputs": [],
   "source": [
    "\\w - Matches any alphanumeric character (digits and alphabets). Equivalent to [a-zA-Z0-9_]. By the way, underscore _ is also considered an alphanumeric character.\n",
    "\n",
    "Expression\tString\tMatched?\n",
    "\n",
    "\\w\t12&\": ;c \t3 matches (at 12&\": ;c)\n",
    "%\"> !\tNo match"
   ]
  },
  {
   "cell_type": "code",
   "execution_count": null,
   "metadata": {},
   "outputs": [],
   "source": [
    "\\W - Matches any non-alphanumeric character. Equivalent to [^a-zA-Z0-9_]\n",
    "\n",
    "Expression\tString\tMatched?\n",
    "\n",
    "\\W\t1a2%c\t1 match (at 1a2%c)\n",
    "Python\tNo match"
   ]
  },
  {
   "cell_type": "code",
   "execution_count": null,
   "metadata": {},
   "outputs": [],
   "source": [
    "\\Z - Matches if the specified characters are at the end of a string.\n",
    "\n",
    "Expression\tString\tMatched?\n",
    "\n",
    "Python\\Z\tI like Python\t1 match\n",
    "I like Python Programming\tNo match\n",
    "Python is fun.\tNo match"
   ]
  },
  {
   "cell_type": "markdown",
   "metadata": {},
   "source": [
    "### re.split()\n",
    "* The re.split method splits the string where there is a match and returns a list of strings where the splits have occurred."
   ]
  },
  {
   "cell_type": "code",
   "execution_count": null,
   "metadata": {},
   "outputs": [],
   "source": [
    "txt = \"The rain in Spain\"\n",
    "x = re.split(\"\\s\", txt)\n",
    "print(x)"
   ]
  },
  {
   "cell_type": "code",
   "execution_count": null,
   "metadata": {},
   "outputs": [],
   "source": [
    "# initializing string \n",
    "data = \"GeeksforGeeks, is_an-awesome ! website\"\n",
    "  \n",
    "# printing original string   \n",
    "print(\"The original string is : \" + data)  \n",
    "  \n",
    "# Using re.split()  \n",
    "# Splitting characters in String  \n",
    "res = re.split(', |_|-|!', data) \n",
    "  \n",
    "# printing result   \n",
    "print(\"The list after performing split functionality : \" + str(res))"
   ]
  },
  {
   "cell_type": "code",
   "execution_count": null,
   "metadata": {},
   "outputs": [],
   "source": [
    "import re\n",
    "\n",
    "string = 'Twelve:12 Eighty nine:89.'\n",
    "pattern = '\\d+'\n",
    "\n",
    "result = re.split(pattern, string) \n",
    "print(result)"
   ]
  },
  {
   "cell_type": "code",
   "execution_count": null,
   "metadata": {},
   "outputs": [],
   "source": [
    "# maxsplit = 1\n",
    "# split only at the first occurrence\n",
    "result = re.split(pattern, string, 1) \n",
    "print(result)\n",
    "# By the way, the default value of maxsplit is 0; meaning all possible splits."
   ]
  },
  {
   "cell_type": "code",
   "execution_count": null,
   "metadata": {},
   "outputs": [],
   "source": [
    "# '\\W+' denotes Non-Alphanumeric Characters or group of characters \n",
    "# Upon finding ',' or whitespace ' ', the split(), splits the string from that point \n",
    "print(re.split('\\W+', 'Words, words , Words')) \n",
    "print(re.split('\\W+', \"Word's words Words\"))"
   ]
  },
  {
   "cell_type": "code",
   "execution_count": null,
   "metadata": {},
   "outputs": [],
   "source": [
    "# Here ':', ' ' ,',' are not AlphaNumeric thus, the point where splitting occurs \n",
    "print(re.split('\\W+', 'On 12th Jan 2016, at 11:02 AM')) \n",
    "  \n",
    "# '\\d+' denotes Numeric Characters or group of characters \n",
    "# Splitting occurs at '12', '2016', '11', '02' only \n",
    "print(re.split('\\d+', 'On 12th Jan 2016, at 11:02 AM')) "
   ]
  },
  {
   "cell_type": "markdown",
   "metadata": {},
   "source": [
    "### re.findall()\n",
    "* The re.findall() method returns a list of strings containing all matches.\n",
    "* Return all non-overlapping matches of pattern in string, as a list of strings. The string is scanned left-to-right, and matches are returned in the order found "
   ]
  },
  {
   "cell_type": "code",
   "execution_count": null,
   "metadata": {},
   "outputs": [],
   "source": [
    "string = 'hello 12 hi 89. Howdy 34'\n",
    "pattern = '\\d+'\n",
    "\n",
    "result = re.findall(pattern, string) \n",
    "print(result)"
   ]
  },
  {
   "cell_type": "code",
   "execution_count": null,
   "metadata": {},
   "outputs": [],
   "source": [
    "string  = \"\"\"Hello my Number is 123456789 and \n",
    "             my friend's number is 987654321\"\"\"\n",
    "  \n",
    "# A sample regular expression to find digits. \n",
    "regex = '\\d+'             \n",
    "  \n",
    "match = re.findall(regex, string) \n",
    "print(match) "
   ]
  },
  {
   "cell_type": "code",
   "execution_count": null,
   "metadata": {},
   "outputs": [],
   "source": [
    "# initializing string   \n",
    "data = \"This, is - another : example?!\"\n",
    "  \n",
    "# printing original string   \n",
    "print(\"The original string is : \" + data)  \n",
    "  \n",
    "# Using re.findall()  \n",
    "# Splitting characters in String  \n",
    "res = re.findall(\"[\\w]+\", data) \n",
    "  \n",
    "# printing result   \n",
    "print(\"The list after performing split functionality : \" + str(res))  "
   ]
  },
  {
   "cell_type": "markdown",
   "metadata": {},
   "source": [
    "### re.sub()\n",
    "* re.sub(pattern, replace, string)\n",
    "* The method returns a string where matched occurrences are replaced with the content of replace variable."
   ]
  },
  {
   "cell_type": "code",
   "execution_count": null,
   "metadata": {},
   "outputs": [],
   "source": [
    "# Program to remove all whitespaces\n",
    "import re\n",
    "\n",
    "# multiline string\n",
    "string = 'abc 12 de 23 \\n f45 6'\n",
    "\n",
    "# matches all whitespace characters\n",
    "pattern = '\\s+'\n",
    "\n",
    "# empty string\n",
    "replace = ''\n",
    "\n",
    "new_string = re.sub(pattern, replace, string) \n",
    "print(new_string)"
   ]
  },
  {
   "cell_type": "code",
   "execution_count": null,
   "metadata": {},
   "outputs": [],
   "source": [
    "# multiline string\n",
    "string = 'abc 12 de 23 f45 6'\n",
    "\n",
    "# matches all whitespace characters\n",
    "pattern = '\\s+'\n",
    "replace = ''\n",
    "\n",
    "new_string = re.sub('\\s+', replace, string, 1) \n",
    "print(new_string)"
   ]
  },
  {
   "cell_type": "markdown",
   "metadata": {},
   "source": [
    "### re.subn()\n",
    "* The re.subn() is similar to re.sub() expect it returns a tuple of 2 items containing the new string and the number of substitutions made."
   ]
  },
  {
   "cell_type": "code",
   "execution_count": null,
   "metadata": {},
   "outputs": [],
   "source": [
    "# multiline string\n",
    "string = 'abc 12\\\n",
    "de 23 \\n f45 6'\n",
    "\n",
    "# matches all whitespace characters\n",
    "pattern = '\\s+'\n",
    "\n",
    "# empty string\n",
    "replace = ''\n",
    "\n",
    "new_string = re.subn(pattern, replace, string) \n",
    "print(new_string)"
   ]
  },
  {
   "cell_type": "markdown",
   "metadata": {},
   "source": [
    "### re.search()\n",
    "* The re.search() method takes two arguments: a pattern and a string. The method looks for the first location where the RegEx pattern produces a match with the string.\n",
    "\n",
    "* If the search is successful, re.search() returns a match object; if not, it returns None"
   ]
  },
  {
   "cell_type": "code",
   "execution_count": null,
   "metadata": {},
   "outputs": [],
   "source": [
    "string = \"Python is fun\"\n",
    "\n",
    "# check if 'Python' is at the beginning\n",
    "match = re.search('\\APython', string)\n",
    "\n",
    "if match:\n",
    "  print(\"pattern found inside the string\")\n",
    "else:\n",
    "  print(\"pattern not found\")  "
   ]
  },
  {
   "cell_type": "code",
   "execution_count": null,
   "metadata": {},
   "outputs": [],
   "source": [
    "txt = \"The rain in Spain\"\n",
    "x = re.search(\"Portugal\", txt)\n",
    "print(x)"
   ]
  },
  {
   "cell_type": "code",
   "execution_count": null,
   "metadata": {},
   "outputs": [],
   "source": [
    "txt = \"The rain in Spain\"\n",
    "x = re.search(\"\\s\", txt)\n",
    "\n",
    "print(\"The first white-space character is located in position:\", x.start())"
   ]
  },
  {
   "cell_type": "code",
   "execution_count": null,
   "metadata": {},
   "outputs": [],
   "source": [
    "txt = \"The rain in Spain\"\n",
    "x = re.search(\"\\s\", txt)\n",
    "\n",
    "print(\"The last white-space character is located in position:\", x.end())"
   ]
  }
 ],
 "metadata": {
  "kernelspec": {
   "display_name": "Python 3",
   "language": "python",
   "name": "python3"
  },
  "language_info": {
   "codemirror_mode": {
    "name": "ipython",
    "version": 3
   },
   "file_extension": ".py",
   "mimetype": "text/x-python",
   "name": "python",
   "nbconvert_exporter": "python",
   "pygments_lexer": "ipython3",
   "version": "3.7.4"
  }
 },
 "nbformat": 4,
 "nbformat_minor": 2
}
