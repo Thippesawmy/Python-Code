{
 "cells": [
  {
   "cell_type": "code",
   "execution_count": 7,
   "metadata": {},
   "outputs": [
    {
     "name": "stdout",
     "output_type": "stream",
     "text": [
      "Please Enter your Name:10\n",
      "Welcome to the Classes 10\n"
     ]
    }
   ],
   "source": [
    "# Input\n",
    "\n",
    "a = input('Please Enter your Name:')\n",
    "print('Welcome to the Classes ' + a)"
   ]
  },
  {
   "cell_type": "code",
   "execution_count": 8,
   "metadata": {},
   "outputs": [
    {
     "data": {
      "text/plain": [
       "str"
      ]
     },
     "execution_count": 8,
     "metadata": {},
     "output_type": "execute_result"
    }
   ],
   "source": [
    "type(a)"
   ]
  },
  {
   "cell_type": "code",
   "execution_count": 12,
   "metadata": {},
   "outputs": [
    {
     "name": "stdout",
     "output_type": "stream",
     "text": [
      "Enter a Number Between 1 to 10:10.5\n"
     ]
    },
    {
     "ename": "ValueError",
     "evalue": "invalid literal for int() with base 10: '10.5'",
     "output_type": "error",
     "traceback": [
      "\u001b[1;31m---------------------------------------------------------------------------\u001b[0m",
      "\u001b[1;31mValueError\u001b[0m                                Traceback (most recent call last)",
      "\u001b[1;32m<ipython-input-12-6bf42ce1689b>\u001b[0m in \u001b[0;36m<module>\u001b[1;34m\u001b[0m\n\u001b[1;32m----> 1\u001b[1;33m \u001b[0ma\u001b[0m \u001b[1;33m=\u001b[0m \u001b[0mint\u001b[0m\u001b[1;33m(\u001b[0m\u001b[0minput\u001b[0m\u001b[1;33m(\u001b[0m\u001b[1;34m'Enter a Number Between 1 to 10:'\u001b[0m\u001b[1;33m)\u001b[0m\u001b[1;33m)\u001b[0m\u001b[1;33m\u001b[0m\u001b[1;33m\u001b[0m\u001b[0m\n\u001b[0m\u001b[0;32m      2\u001b[0m \u001b[0mprint\u001b[0m\u001b[1;33m(\u001b[0m\u001b[1;34m'Square of the Given Input is:'\u001b[0m\u001b[1;33m,\u001b[0m \u001b[0ma\u001b[0m\u001b[1;33m*\u001b[0m\u001b[0ma\u001b[0m\u001b[1;33m)\u001b[0m\u001b[1;33m\u001b[0m\u001b[1;33m\u001b[0m\u001b[0m\n",
      "\u001b[1;31mValueError\u001b[0m: invalid literal for int() with base 10: '10.5'"
     ]
    }
   ],
   "source": [
    "a = int(input('Enter a Number Between 1 to 10:'))\n",
    "print('Square of the Given Input is:', a*a)"
   ]
  },
  {
   "cell_type": "code",
   "execution_count": 11,
   "metadata": {},
   "outputs": [
    {
     "data": {
      "text/plain": [
       "int"
      ]
     },
     "execution_count": 11,
     "metadata": {},
     "output_type": "execute_result"
    }
   ],
   "source": [
    "type(a)"
   ]
  },
  {
   "cell_type": "code",
   "execution_count": 13,
   "metadata": {},
   "outputs": [
    {
     "name": "stdout",
     "output_type": "stream",
     "text": [
      "Enter a Number Between 1 to 10:10.5\n",
      "Square of the Given Input is: 110.25\n"
     ]
    }
   ],
   "source": [
    "a = float(input('Enter a Number Between 1 to 10:'))\n",
    "print('Square of the Given Input is:', a*a)"
   ]
  },
  {
   "cell_type": "code",
   "execution_count": 17,
   "metadata": {},
   "outputs": [
    {
     "name": "stdout",
     "output_type": "stream",
     "text": [
      "Enter a Number Between 1 to 10:10\n",
      "Square of the Given Input is: 100\n"
     ]
    }
   ],
   "source": [
    "# Eval\n",
    "\n",
    "a = eval(input('Enter a Number Between 1 to 10:'))\n",
    "print('Square of the Given Input is:', a*a)"
   ]
  },
  {
   "cell_type": "code",
   "execution_count": 18,
   "metadata": {},
   "outputs": [
    {
     "data": {
      "text/plain": [
       "int"
      ]
     },
     "execution_count": 18,
     "metadata": {},
     "output_type": "execute_result"
    }
   ],
   "source": [
    "type(a)"
   ]
  },
  {
   "cell_type": "code",
   "execution_count": 24,
   "metadata": {},
   "outputs": [],
   "source": [
    "import random\n",
    "guess = random.randint(1,10)"
   ]
  },
  {
   "cell_type": "code",
   "execution_count": 25,
   "metadata": {},
   "outputs": [
    {
     "name": "stdout",
     "output_type": "stream",
     "text": [
      "Please Guess a Number between 1 to 10:8\n",
      "Try Again!\n",
      "Please Guess a Number between 1 to 10:6\n",
      "Try Again!\n",
      "Please Guess a Number between 1 to 10:7\n",
      "Try Again!\n",
      "Please Guess a Number between 1 to 10:5\n",
      "Try Again!\n",
      "Please Guess a Number between 1 to 10:2\n",
      "You are a Genius\n",
      "The Correct Number is 2\n"
     ]
    }
   ],
   "source": [
    "for i in range(5):\n",
    "    a = eval(input('Please Guess a Number between 1 to 10:'))\n",
    "    if a == guess:\n",
    "        print('You are a Genius')\n",
    "    else:\n",
    "        print('Try Again!')\n",
    "else:\n",
    "    print('The Correct Number is', guess)"
   ]
  },
  {
   "cell_type": "code",
   "execution_count": 26,
   "metadata": {},
   "outputs": [
    {
     "name": "stdout",
     "output_type": "stream",
     "text": [
      "abc\n",
      "10\n",
      "True\n",
      "10.5\n"
     ]
    }
   ],
   "source": [
    "# Output - Print\n",
    "\n",
    "print('abc')\n",
    "print(10)\n",
    "print(True)\n",
    "print(10.5)"
   ]
  },
  {
   "cell_type": "code",
   "execution_count": 28,
   "metadata": {},
   "outputs": [
    {
     "name": "stdout",
     "output_type": "stream",
     "text": [
      "This is the First Line\n",
      "This is the Second Line\n",
      "This is the Third Line\n"
     ]
    }
   ],
   "source": [
    "print('This is the First Line')\n",
    "print('This is the Second Line')\n",
    "print('This is the Third Line')"
   ]
  },
  {
   "cell_type": "code",
   "execution_count": 29,
   "metadata": {},
   "outputs": [
    {
     "name": "stdout",
     "output_type": "stream",
     "text": [
      "This is the First Line This is the Second Line This is the Third Linea\n"
     ]
    }
   ],
   "source": [
    "print('This is the First Line', end = \" \")\n",
    "print('This is the Second Line', end = \" \")\n",
    "print('This is the Third Line')"
   ]
  },
  {
   "cell_type": "code",
   "execution_count": 30,
   "metadata": {},
   "outputs": [
    {
     "name": "stdout",
     "output_type": "stream",
     "text": [
      "This is the First Line//This is the Second Line//This is the Third Line\n"
     ]
    }
   ],
   "source": [
    "print('This is the First Line', end = \"//\")\n",
    "print('This is the Second Line', end = \"//\")\n",
    "print('This is the Third Line')"
   ]
  },
  {
   "cell_type": "code",
   "execution_count": 32,
   "metadata": {},
   "outputs": [
    {
     "name": "stdout",
     "output_type": "stream",
     "text": [
      "This is to Demonstrate how output Function works 15 Seconds later True\n"
     ]
    }
   ],
   "source": [
    "print('This is to Demonstrate how output Function works',15,'Seconds later',True)"
   ]
  },
  {
   "cell_type": "code",
   "execution_count": 33,
   "metadata": {},
   "outputs": [
    {
     "name": "stdout",
     "output_type": "stream",
     "text": [
      "This is to Demonstrate how output Function works\n",
      "15\n",
      "Seconds later\n",
      "True\n"
     ]
    }
   ],
   "source": [
    "print('This is to Demonstrate how output Function works',15,'Seconds later',True, sep = '\\n')"
   ]
  },
  {
   "cell_type": "code",
   "execution_count": 34,
   "metadata": {},
   "outputs": [
    {
     "name": "stdout",
     "output_type": "stream",
     "text": [
      "This is to Demonstrate how output Function works==--==15==--==Seconds later==--==True\n"
     ]
    }
   ],
   "source": [
    "print('This is to Demonstrate how output Function works',15,'Seconds later',True, sep = '==--==')"
   ]
  },
  {
   "cell_type": "code",
   "execution_count": null,
   "metadata": {},
   "outputs": [],
   "source": [
    "# Format Function"
   ]
  },
  {
   "cell_type": "code",
   "execution_count": 35,
   "metadata": {},
   "outputs": [
    {
     "name": "stdout",
     "output_type": "stream",
     "text": [
      "Please Enter your Maths Marks:35\n",
      "Please Enter your Physics Marks:45\n",
      "Please Enter your Biology Marks:35\n",
      "By Scoring 35 marks in Maths 45 marks in Physics 35 marks in Biology, You have scored an average of 38.333333333333336\n"
     ]
    }
   ],
   "source": [
    "a = eval(input('Please Enter your Maths Marks:'))\n",
    "b = eval(input('Please Enter your Physics Marks:'))\n",
    "c = eval(input('Please Enter your Biology Marks:'))\n",
    "print('By Scoring', a , 'marks in Maths', b, 'marks in Physics', c, 'marks in Biology, You have scored an average of', (a + b + c)/3)"
   ]
  },
  {
   "cell_type": "code",
   "execution_count": 37,
   "metadata": {},
   "outputs": [
    {
     "name": "stdout",
     "output_type": "stream",
     "text": [
      "Please Enter your Maths Marks:35\n",
      "Please Enter your Physics Marks:45\n",
      "Please Enter your Biology Marks:35\n",
      "By Scoring 35 marks in Maths, 45 marks in Physics, 35 marks in Biology, You have scored an average of 38.333333333333336\n"
     ]
    }
   ],
   "source": [
    "a = eval(input('Please Enter your Maths Marks:'))\n",
    "b = eval(input('Please Enter your Physics Marks:'))\n",
    "c = eval(input('Please Enter your Biology Marks:'))\n",
    "print('By Scoring {} marks in Maths, {} marks in Physics, {} marks in Biology, You have scored an average of {}'.format(a,b,c, (a + b + c)/3))"
   ]
  },
  {
   "cell_type": "code",
   "execution_count": 42,
   "metadata": {},
   "outputs": [
    {
     "name": "stdout",
     "output_type": "stream",
     "text": [
      "Please Enter your Maths Marks:45\n",
      "Please Enter your Physics Marks:55\n",
      "By Scoring 45 in Maths, 55 in Physics, an average of 50.0\n"
     ]
    }
   ],
   "source": [
    "a = eval(input('Please Enter your Maths Marks:'))\n",
    "b = eval(input('Please Enter your Physics Marks:'))\n",
    "print('By Scoring {1} in Maths, {0} in Physics, an average of {2}'.format(b,a, (a + b)/2))"
   ]
  },
  {
   "cell_type": "code",
   "execution_count": 46,
   "metadata": {},
   "outputs": [
    {
     "name": "stdout",
     "output_type": "stream",
     "text": [
      "Please Enter your Maths Marks:48\n",
      "Please Enter your Physics Marks:59\n",
      "By Scoring 48 in Maths, 59 in Physics, an average of 53.5\n"
     ]
    }
   ],
   "source": [
    "a = eval(input('Please Enter your Maths Marks:'))\n",
    "b = eval(input('Please Enter your Physics Marks:'))\n",
    "print('By Scoring {} in Maths, {} in Physics, an average of {x:1.1f}'.format(a,b, x = (a + b)/2))"
   ]
  },
  {
   "cell_type": "code",
   "execution_count": 49,
   "metadata": {},
   "outputs": [
    {
     "name": "stdout",
     "output_type": "stream",
     "text": [
      "Please Enter your Maths Marks:49\n",
      "Please Enter your Physics Marks:56\n",
      "By Scoring 49 in Maths, 56 in Physics, an average of 52.5\n"
     ]
    }
   ],
   "source": [
    "a = eval(input('Please Enter your Maths Marks:'))\n",
    "b = eval(input('Please Enter your Physics Marks:'))\n",
    "print('By Scoring {} in Maths, {} in Physics, an average of {}'.format(a,b, round(a + b)/2, 3))"
   ]
  },
  {
   "cell_type": "markdown",
   "metadata": {},
   "source": [
    "# Assignment Operators"
   ]
  },
  {
   "cell_type": "code",
   "execution_count": 50,
   "metadata": {},
   "outputs": [
    {
     "data": {
      "text/plain": [
       "(10, 'gow')"
      ]
     },
     "execution_count": 50,
     "metadata": {},
     "output_type": "execute_result"
    }
   ],
   "source": [
    "a = 10, 'gow'\n",
    "a"
   ]
  },
  {
   "cell_type": "code",
   "execution_count": 51,
   "metadata": {},
   "outputs": [
    {
     "data": {
      "text/plain": [
       "tuple"
      ]
     },
     "execution_count": 51,
     "metadata": {},
     "output_type": "execute_result"
    }
   ],
   "source": [
    "type(a)"
   ]
  },
  {
   "cell_type": "code",
   "execution_count": 52,
   "metadata": {},
   "outputs": [
    {
     "data": {
      "text/plain": [
       "10"
      ]
     },
     "execution_count": 52,
     "metadata": {},
     "output_type": "execute_result"
    }
   ],
   "source": [
    "a = 10\n",
    "a"
   ]
  },
  {
   "cell_type": "code",
   "execution_count": 53,
   "metadata": {},
   "outputs": [
    {
     "data": {
      "text/plain": [
       "15"
      ]
     },
     "execution_count": 53,
     "metadata": {},
     "output_type": "execute_result"
    }
   ],
   "source": [
    "a = a + 5\n",
    "a"
   ]
  },
  {
   "cell_type": "code",
   "execution_count": 54,
   "metadata": {},
   "outputs": [
    {
     "data": {
      "text/plain": [
       "13"
      ]
     },
     "execution_count": 54,
     "metadata": {},
     "output_type": "execute_result"
    }
   ],
   "source": [
    "a = a - 2\n",
    "a"
   ]
  },
  {
   "cell_type": "code",
   "execution_count": 55,
   "metadata": {},
   "outputs": [
    {
     "data": {
      "text/plain": [
       "10"
      ]
     },
     "execution_count": 55,
     "metadata": {},
     "output_type": "execute_result"
    }
   ],
   "source": [
    "a = 10\n",
    "a"
   ]
  },
  {
   "cell_type": "code",
   "execution_count": 56,
   "metadata": {},
   "outputs": [
    {
     "data": {
      "text/plain": [
       "15"
      ]
     },
     "execution_count": 56,
     "metadata": {},
     "output_type": "execute_result"
    }
   ],
   "source": [
    "a += 5\n",
    "a"
   ]
  },
  {
   "cell_type": "code",
   "execution_count": 57,
   "metadata": {},
   "outputs": [
    {
     "data": {
      "text/plain": [
       "13"
      ]
     },
     "execution_count": 57,
     "metadata": {},
     "output_type": "execute_result"
    }
   ],
   "source": [
    "a -= 2\n",
    "a"
   ]
  },
  {
   "cell_type": "code",
   "execution_count": 66,
   "metadata": {},
   "outputs": [],
   "source": [
    "a = 10"
   ]
  },
  {
   "cell_type": "code",
   "execution_count": 67,
   "metadata": {},
   "outputs": [],
   "source": [
    "b = 25"
   ]
  },
  {
   "cell_type": "code",
   "execution_count": 69,
   "metadata": {},
   "outputs": [
    {
     "name": "stdout",
     "output_type": "stream",
     "text": [
      "35\n",
      "10\n",
      "250\n",
      "10.0\n",
      "0.0\n",
      "0.0\n"
     ]
    }
   ],
   "source": [
    "a += b\n",
    "print(a)\n",
    "\n",
    "a -= b\n",
    "print(a)\n",
    "\n",
    "a *= b\n",
    "print(a)\n",
    "\n",
    "a /= b\n",
    "print(a)\n",
    "\n",
    "a //= b\n",
    "print(a)\n",
    "\n",
    "a **= b\n",
    "print(a)\n",
    "# print('Exponentation', a = b)"
   ]
  },
  {
   "cell_type": "code",
   "execution_count": 73,
   "metadata": {},
   "outputs": [
    {
     "data": {
      "text/plain": [
       "5.0"
      ]
     },
     "execution_count": 73,
     "metadata": {},
     "output_type": "execute_result"
    }
   ],
   "source": [
    "12//2.12"
   ]
  },
  {
   "cell_type": "markdown",
   "metadata": {},
   "source": [
    "# Comparison Operators"
   ]
  },
  {
   "cell_type": "code",
   "execution_count": null,
   "metadata": {},
   "outputs": [],
   "source": [
    ">, <, !=, ==, <=, >="
   ]
  },
  {
   "cell_type": "code",
   "execution_count": 79,
   "metadata": {},
   "outputs": [
    {
     "name": "stdout",
     "output_type": "stream",
     "text": [
      "Please Enter a Value Between 10 t0 100:89\n",
      "Please Enter a Value Between 10 t0 50:45\n",
      "A is 89 & B is 45\n"
     ]
    }
   ],
   "source": [
    "a = eval(input('Please Enter a Value Between 10 t0 100:'))\n",
    "b = eval(input('Please Enter a Value Between 10 t0 50:'))\n",
    "print('A is {} & B is {}'.format(a, b))"
   ]
  },
  {
   "cell_type": "code",
   "execution_count": 80,
   "metadata": {},
   "outputs": [
    {
     "name": "stdout",
     "output_type": "stream",
     "text": [
      "A is Greater than B\n"
     ]
    }
   ],
   "source": [
    "if a > b:\n",
    "    print('A is Greater than B')\n",
    "else:\n",
    "    print('B is Greater than A')"
   ]
  },
  {
   "cell_type": "code",
   "execution_count": 81,
   "metadata": {},
   "outputs": [
    {
     "name": "stdout",
     "output_type": "stream",
     "text": [
      "B is Lesser than A\n"
     ]
    }
   ],
   "source": [
    "if a < b:\n",
    "    print('A is Lesser than B')\n",
    "else:\n",
    "    print('B is Lesser than A')"
   ]
  },
  {
   "cell_type": "code",
   "execution_count": 83,
   "metadata": {},
   "outputs": [
    {
     "name": "stdout",
     "output_type": "stream",
     "text": [
      "A & B are not equal to Each other\n"
     ]
    }
   ],
   "source": [
    "if a == b:\n",
    "    print('A is Equal to B')\n",
    "else:\n",
    "    print('A & B are not equal to Each other')"
   ]
  },
  {
   "cell_type": "code",
   "execution_count": 85,
   "metadata": {},
   "outputs": [
    {
     "name": "stdout",
     "output_type": "stream",
     "text": [
      "A is Greater than or Equal to B\n"
     ]
    }
   ],
   "source": [
    "if a >= b:\n",
    "    print('A is Greater than or Equal to B')\n",
    "else:\n",
    "    print('B is Greater than or Equal to A')"
   ]
  },
  {
   "cell_type": "code",
   "execution_count": 86,
   "metadata": {},
   "outputs": [
    {
     "name": "stdout",
     "output_type": "stream",
     "text": [
      "B is Lesser or Equal to A\n"
     ]
    }
   ],
   "source": [
    "if a <= b:\n",
    "    print('A is Lesser or Equal to than B')\n",
    "else:\n",
    "    print('B is Lesser or Equal to A')"
   ]
  },
  {
   "cell_type": "code",
   "execution_count": 87,
   "metadata": {},
   "outputs": [
    {
     "name": "stdout",
     "output_type": "stream",
     "text": [
      "A is Not Equal to B\n"
     ]
    }
   ],
   "source": [
    "if a != b:\n",
    "    print('A is Not Equal to B')\n",
    "else:\n",
    "    print('B is Not Equal to A')"
   ]
  },
  {
   "cell_type": "code",
   "execution_count": 88,
   "metadata": {},
   "outputs": [
    {
     "name": "stdout",
     "output_type": "stream",
     "text": [
      "A is Greater than B\n"
     ]
    }
   ],
   "source": [
    "if a > b:\n",
    "    print('A is Greater than B')\n",
    "elif a < b:\n",
    "    print('A is Lesser than B')\n",
    "elif a == b:\n",
    "    print('A is Equal to B')"
   ]
  }
 ],
 "metadata": {
  "kernelspec": {
   "display_name": "Python 3",
   "language": "python",
   "name": "python3"
  },
  "language_info": {
   "codemirror_mode": {
    "name": "ipython",
    "version": 3
   },
   "file_extension": ".py",
   "mimetype": "text/x-python",
   "name": "python",
   "nbconvert_exporter": "python",
   "pygments_lexer": "ipython3",
   "version": "3.7.4"
  }
 },
 "nbformat": 4,
 "nbformat_minor": 2
}
