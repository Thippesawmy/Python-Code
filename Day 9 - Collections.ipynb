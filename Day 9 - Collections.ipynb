{
 "cells": [
  {
   "cell_type": "markdown",
   "metadata": {},
   "source": [
    "## namedtuple( )"
   ]
  },
  {
   "cell_type": "code",
   "execution_count": null,
   "metadata": {},
   "outputs": [],
   "source": [
    "from collections import namedtuple"
   ]
  },
  {
   "cell_type": "code",
   "execution_count": null,
   "metadata": {},
   "outputs": [],
   "source": [
    "a = 'Gowtham', 'State Street'\n",
    "print(type(a))\n",
    "print(a)"
   ]
  },
  {
   "cell_type": "code",
   "execution_count": null,
   "metadata": {},
   "outputs": [],
   "source": [
    "a = namedtuple('courses' , 'name, tech, year')\n",
    "tipu = a('Tipu' , 'python', 2020)\n",
    "print(tipu)"
   ]
  },
  {
   "cell_type": "code",
   "execution_count": null,
   "metadata": {},
   "outputs": [],
   "source": [
    "tipu.year"
   ]
  },
  {
   "cell_type": "code",
   "execution_count": null,
   "metadata": {},
   "outputs": [],
   "source": [
    "Nithya = a('Nithya', 'python', 2020)\n",
    "Nithya"
   ]
  },
  {
   "cell_type": "code",
   "execution_count": null,
   "metadata": {},
   "outputs": [],
   "source": [
    "vinod = tipu._make(['Vinod', 'python',2020])\n",
    "vinod"
   ]
  },
  {
   "cell_type": "code",
   "execution_count": null,
   "metadata": {},
   "outputs": [],
   "source": [
    "# Accessing the values\n",
    "Student = namedtuple('Student', 'fname, lname, age')\n",
    "s1 = Student('John', 'Clarke', '13')\n",
    "print(s1.fname)\n",
    "print(s1.lname)\n",
    "print(s1.age)"
   ]
  },
  {
   "cell_type": "code",
   "execution_count": null,
   "metadata": {},
   "outputs": [],
   "source": [
    "# With List\n",
    "s2 = Student._make(['Adam','joe','18'])\n",
    "print(s2)"
   ]
  },
  {
   "cell_type": "code",
   "execution_count": null,
   "metadata": {},
   "outputs": [],
   "source": [
    "s2 = s1._replace(age='14')\n",
    "print(s1)\n",
    "print(s2)"
   ]
  },
  {
   "cell_type": "code",
   "execution_count": null,
   "metadata": {},
   "outputs": [],
   "source": [
    "s2 = s1._replace(fname='Gowtham')\n",
    "print(s1)\n",
    "print(s2)"
   ]
  },
  {
   "cell_type": "markdown",
   "metadata": {},
   "source": [
    "## deque"
   ]
  },
  {
   "cell_type": "code",
   "execution_count": null,
   "metadata": {},
   "outputs": [],
   "source": [
    "#creating a deque\n",
    "from collections import deque\n",
    " \n",
    "a = ['S' , 'T' , 'A' , 'T' , 'E']\n",
    "a1 = deque(a)\n",
    "print(a1)"
   ]
  },
  {
   "cell_type": "code",
   "execution_count": null,
   "metadata": {},
   "outputs": [],
   "source": [
    "a = [\"a\",\"b\",\"c\"]\n",
    "deq = deque(a)\n",
    "print(deq)"
   ]
  },
  {
   "cell_type": "code",
   "execution_count": null,
   "metadata": {},
   "outputs": [],
   "source": [
    "b = [\"a\",'a',\"b\",\"c\",'a', 'b']\n",
    "deq = deque(b)\n",
    "print(deq.count(\"a\"))"
   ]
  },
  {
   "cell_type": "code",
   "execution_count": null,
   "metadata": {},
   "outputs": [],
   "source": [
    "a1.insert(0,'l')"
   ]
  },
  {
   "cell_type": "code",
   "execution_count": null,
   "metadata": {},
   "outputs": [],
   "source": [
    "a1"
   ]
  },
  {
   "cell_type": "code",
   "execution_count": null,
   "metadata": {},
   "outputs": [],
   "source": [
    "# Now lets take a look at how we will insert and remove items from deque.\n",
    "a1.append('a')\n",
    "print(a1)\n",
    "\n",
    "a1.appendleft('e')\n",
    "print(a1)"
   ]
  },
  {
   "cell_type": "code",
   "execution_count": null,
   "metadata": {},
   "outputs": [],
   "source": [
    "b = list(range(10))"
   ]
  },
  {
   "cell_type": "code",
   "execution_count": null,
   "metadata": {},
   "outputs": [],
   "source": [
    "# Now lets take a look at how we will insert and remove items from deque.\n",
    "a1.extend(b)\n",
    "print(a1)\n",
    "\n",
    "a1.extendleft(b)\n",
    "print(a1)"
   ]
  },
  {
   "cell_type": "code",
   "execution_count": null,
   "metadata": {},
   "outputs": [],
   "source": [
    "# inserting a component is enhanced utilizing deque, also you can remove components as well\n",
    "\n",
    "a1.pop()\n",
    "print(a1)\n",
    "\n",
    "\n",
    "a1.popleft()\n",
    "print(a1)"
   ]
  },
  {
   "cell_type": "markdown",
   "metadata": {},
   "source": [
    "## ChainMap"
   ]
  },
  {
   "cell_type": "code",
   "execution_count": null,
   "metadata": {},
   "outputs": [],
   "source": [
    "from collections import ChainMap\n",
    "a = {1: 'Programming' , 2: 'python'}\n",
    "b = {3: 'data science', 4: 'Machine learning'}\n",
    "c = ChainMap(a,b)\n",
    "print(c)"
   ]
  },
  {
   "cell_type": "code",
   "execution_count": null,
   "metadata": {
    "scrolled": false
   },
   "outputs": [],
   "source": [
    "dict1 = { 'a' : 1, 'b' : 2 }\n",
    "dict2 = { 'c' : 3, 'b' : 4 }\n",
    "chain_map = ChainMap(dict1, dict2)\n",
    "print(list(chain_map.keys()))\n",
    "print(list(chain_map.values()))"
   ]
  },
  {
   "cell_type": "code",
   "execution_count": null,
   "metadata": {},
   "outputs": [],
   "source": [
    "print(chain_map.keys())\n",
    "print(chain_map.values())"
   ]
  },
  {
   "cell_type": "code",
   "execution_count": null,
   "metadata": {},
   "outputs": [],
   "source": [
    "print(chain_map['a'])"
   ]
  },
  {
   "cell_type": "code",
   "execution_count": null,
   "metadata": {},
   "outputs": [],
   "source": [
    "dict2['c'] = 5\n",
    "print(chain_map.maps)"
   ]
  },
  {
   "cell_type": "code",
   "execution_count": null,
   "metadata": {},
   "outputs": [],
   "source": [
    "dic1 = { 'a' : 1, 'b' : 2 } \n",
    "dic2 = { 'b' : 3, 'c' : 4 } \n",
    "  \n",
    "chain = ChainMap(dic1, dic2) \n",
    "print (chain.maps)"
   ]
  },
  {
   "cell_type": "code",
   "execution_count": null,
   "metadata": {},
   "outputs": [],
   "source": [
    "dic3 = { 'f' : 5 , 'g':6} \n",
    "\n",
    "chain1 = chain.new_child(dic3) "
   ]
  },
  {
   "cell_type": "code",
   "execution_count": null,
   "metadata": {},
   "outputs": [],
   "source": [
    "print (chain1.maps)"
   ]
  },
  {
   "cell_type": "code",
   "execution_count": null,
   "metadata": {},
   "outputs": [],
   "source": [
    "dict3 = {'e' : 5, 'f' : 6} #Adding a New Dictionary to ChainMap\n",
    "new_chain_map = chain_map.new_child(dict3)\n",
    "print(new_chain_map)"
   ]
  },
  {
   "cell_type": "markdown",
   "metadata": {},
   "source": [
    "## Counter"
   ]
  },
  {
   "cell_type": "code",
   "execution_count": 2,
   "metadata": {},
   "outputs": [],
   "source": [
    "from collections import Counter"
   ]
  },
  {
   "cell_type": "code",
   "execution_count": null,
   "metadata": {},
   "outputs": [],
   "source": [
    "a = [1,1,1,1,2,3,3,4,3,3,4]\n",
    "c = Counter(a)\n",
    "print(c)"
   ]
  },
  {
   "cell_type": "code",
   "execution_count": null,
   "metadata": {},
   "outputs": [],
   "source": [
    "a = [1,2,3,4,1,2,6,7,3,8,1]\n",
    "Counter(a)"
   ]
  },
  {
   "cell_type": "code",
   "execution_count": null,
   "metadata": {},
   "outputs": [],
   "source": [
    "Counter({1:3,2:4})"
   ]
  },
  {
   "cell_type": "code",
   "execution_count": null,
   "metadata": {},
   "outputs": [],
   "source": [
    "b = [1,2,3,4,1,2,6,7,3,8,1]\n",
    "cnt = Counter(b)\n",
    "print(cnt[2])"
   ]
  },
  {
   "cell_type": "markdown",
   "metadata": {},
   "source": [
    "#### Apart from that, Counter has  additional functions:"
   ]
  },
  {
   "cell_type": "code",
   "execution_count": 1,
   "metadata": {},
   "outputs": [
    {
     "data": {
      "text/plain": [
       "[0, 1, 2, 3, 4, 5, 6, 7, 8, 9]"
      ]
     },
     "execution_count": 1,
     "metadata": {},
     "output_type": "execute_result"
    }
   ],
   "source": [
    "list(range(10))"
   ]
  },
  {
   "cell_type": "code",
   "execution_count": 5,
   "metadata": {},
   "outputs": [
    {
     "data": {
      "text/plain": [
       "['O', 'o', 'o', 'p', 's']"
      ]
     },
     "execution_count": 5,
     "metadata": {},
     "output_type": "execute_result"
    }
   ],
   "source": [
    "a = 'Ooops'\n",
    "cnt = Counter(a)\n",
    "list(cnt.elements())"
   ]
  },
  {
   "cell_type": "code",
   "execution_count": 3,
   "metadata": {},
   "outputs": [
    {
     "name": "stdout",
     "output_type": "stream",
     "text": [
      "S S t t t t a e e e   r "
     ]
    }
   ],
   "source": [
    "# The element() Function - returns an iterator object for the values in the Counter.\n",
    "\n",
    "x = Counter(\"State Street\") \n",
    "  \n",
    "for i in x.elements(): \n",
    "    print( i, end = \" \")"
   ]
  },
  {
   "cell_type": "code",
   "execution_count": 6,
   "metadata": {},
   "outputs": [
    {
     "name": "stdout",
     "output_type": "stream",
     "text": [
      "State State State State Street Bellandur Bellandur python python python "
     ]
    }
   ],
   "source": [
    "b = Counter({'State' : 4, 'Street' : 1,  \n",
    "            'Bellandur' : 2, 'python' : 3}) \n",
    "  \n",
    "for i in b.elements(): \n",
    "    print (i, end = \" \")"
   ]
  },
  {
   "cell_type": "code",
   "execution_count": 7,
   "metadata": {},
   "outputs": [
    {
     "name": "stdout",
     "output_type": "stream",
     "text": [
      "1 2 2 21 21 12 44 5 5 5 13 15 19 "
     ]
    }
   ],
   "source": [
    "c = Counter([1, 2, 21, 12, 2, 44, 5, 13, 15, 5, 19, 21, 5]) \n",
    "  \n",
    "for i in c.elements(): \n",
    "    print (i, end = \" \")"
   ]
  },
  {
   "cell_type": "code",
   "execution_count": 8,
   "metadata": {},
   "outputs": [
    {
     "name": "stdout",
     "output_type": "stream",
     "text": [
      "a a b b b c c c c c c d e e e e e "
     ]
    }
   ],
   "source": [
    "d = Counter(a = 2, b = 3, c = 6, d = 1, e = 5) \n",
    "  \n",
    "for i in d.elements(): \n",
    "    print ( i, end = \" \") "
   ]
  },
  {
   "cell_type": "code",
   "execution_count": 9,
   "metadata": {},
   "outputs": [
    {
     "name": "stdout",
     "output_type": "stream",
     "text": [
      "[(1, 3), (2, 2), (3, 2), (4, 1), (6, 1), (7, 1), (8, 1)]\n"
     ]
    }
   ],
   "source": [
    "list = [1,2,3,4,1,2,6,7,3,8,1]\n",
    "cnt = Counter(list)\n",
    "print(cnt.most_common())"
   ]
  },
  {
   "cell_type": "code",
   "execution_count": 10,
   "metadata": {},
   "outputs": [
    {
     "name": "stdout",
     "output_type": "stream",
     "text": [
      "[(1, 3), (2, 2)]\n"
     ]
    }
   ],
   "source": [
    "list = [1,2,3,4,1,2,6,7,3,8,1]\n",
    "cnt = Counter(list)\n",
    "print(cnt.most_common(2))"
   ]
  },
  {
   "cell_type": "code",
   "execution_count": 11,
   "metadata": {},
   "outputs": [
    {
     "name": "stdout",
     "output_type": "stream",
     "text": [
      "f: 219\n",
      "d: 120\n",
      "c: 3\n"
     ]
    }
   ],
   "source": [
    "coun = Counter(a=1, b=2, c=3, d=120, e=1, f=219) \n",
    "  \n",
    "for letter, count in coun.most_common(3): \n",
    "    print('%s: %d' % (letter, count))"
   ]
  },
  {
   "cell_type": "code",
   "execution_count": 12,
   "metadata": {},
   "outputs": [
    {
     "name": "stdout",
     "output_type": "stream",
     "text": [
      "C1: Counter({'b': 3, 'a': 2, 'c': 1})\n",
      "C2: Counter({'a': 2, 'l': 1, 'p': 1, 'h': 1, 'b': 1, 'e': 1, 't': 1})\n",
      "\n",
      "Combined counts:\n",
      "Counter({'a': 4, 'b': 4, 'c': 1, 'l': 1, 'p': 1, 'h': 1, 'e': 1, 't': 1})\n",
      "\n",
      "Subtraction:\n",
      "Counter({'b': 2, 'c': 1})\n",
      "\n",
      "Intersection (taking positive minimums):\n",
      "Counter({'a': 2, 'b': 1})\n",
      "\n",
      "Union (taking maximums):\n",
      "Counter({'b': 3, 'a': 2, 'c': 1, 'l': 1, 'p': 1, 'h': 1, 'e': 1, 't': 1})\n"
     ]
    }
   ],
   "source": [
    "# Arithmetic operations in counter\n",
    "import collections\n",
    "\n",
    "c1 = collections.Counter(['a', 'b', 'c', 'a', 'b', 'b'])\n",
    "c2 = collections.Counter('alphabet')\n",
    "\n",
    "print ('C1:', c1)\n",
    "print ('C2:', c2)\n",
    "\n",
    "print ('\\nCombined counts:')\n",
    "print (c1 + c2)\n",
    "\n",
    "print ('\\nSubtraction:')\n",
    "print (c1 - c2)\n",
    "\n",
    "print ('\\nIntersection (taking positive minimums):')\n",
    "print (c1 & c2)\n",
    "\n",
    "print ('\\nUnion (taking maximums):')\n",
    "print (c1 | c2)"
   ]
  },
  {
   "cell_type": "markdown",
   "metadata": {},
   "source": [
    "## OrderedDict"
   ]
  },
  {
   "cell_type": "code",
   "execution_count": 13,
   "metadata": {},
   "outputs": [
    {
     "name": "stdout",
     "output_type": "stream",
     "text": [
      "OrderedDict([(1, 's'), (2, 't'), (3, 'a'), (4, 't'), (5, 'e')])\n"
     ]
    }
   ],
   "source": [
    "from collections import OrderedDict\n",
    "od = OrderedDict()\n",
    "od[1] = 's'\n",
    "od[2] = 't'\n",
    "od[3] = 'a'\n",
    "od[4] = 't'\n",
    "od[5] = 'e'\n",
    "print(od)"
   ]
  },
  {
   "cell_type": "code",
   "execution_count": 14,
   "metadata": {},
   "outputs": [
    {
     "name": "stdout",
     "output_type": "stream",
     "text": [
      "OrderedDict([('a', 1), ('b', 2), ('c', 3)])\n"
     ]
    }
   ],
   "source": [
    "od = OrderedDict()\n",
    "od['a'] = 1\n",
    "od['b'] = 2\n",
    "od['c'] = 3\n",
    "print(od)"
   ]
  },
  {
   "cell_type": "code",
   "execution_count": 15,
   "metadata": {},
   "outputs": [
    {
     "data": {
      "text/plain": [
       "odict_keys(['a', 'b', 'c'])"
      ]
     },
     "execution_count": 15,
     "metadata": {},
     "output_type": "execute_result"
    }
   ],
   "source": [
    "od.keys()"
   ]
  },
  {
   "cell_type": "code",
   "execution_count": 16,
   "metadata": {},
   "outputs": [
    {
     "data": {
      "text/plain": [
       "odict_values([1, 2, 3])"
      ]
     },
     "execution_count": 16,
     "metadata": {},
     "output_type": "execute_result"
    }
   ],
   "source": [
    "od.values()"
   ]
  },
  {
   "cell_type": "code",
   "execution_count": 17,
   "metadata": {},
   "outputs": [
    {
     "name": "stdout",
     "output_type": "stream",
     "text": [
      "a 1\n",
      "b 2\n",
      "c 3\n"
     ]
    }
   ],
   "source": [
    "for key, value in od.items():\n",
    "    print(key, value)"
   ]
  },
  {
   "cell_type": "markdown",
   "metadata": {},
   "source": [
    "## Defaultdict\n"
   ]
  },
  {
   "cell_type": "code",
   "execution_count": 18,
   "metadata": {},
   "outputs": [
    {
     "name": "stdout",
     "output_type": "stream",
     "text": [
      "0\n"
     ]
    }
   ],
   "source": [
    "from collections import defaultdict\n",
    "d = defaultdict(int)\n",
    "d[1] = 'State'\n",
    "d[2] = 'python'\n",
    "print(d[3])"
   ]
  },
  {
   "cell_type": "code",
   "execution_count": 19,
   "metadata": {},
   "outputs": [
    {
     "name": "stdout",
     "output_type": "stream",
     "text": [
      "0.0\n"
     ]
    }
   ],
   "source": [
    "d = defaultdict(float)\n",
    "d[1] = 'State'\n",
    "d[2] = 'python'\n",
    "print(d[3])"
   ]
  },
  {
   "cell_type": "code",
   "execution_count": 20,
   "metadata": {},
   "outputs": [
    {
     "data": {
      "text/plain": [
       "'State'"
      ]
     },
     "execution_count": 20,
     "metadata": {},
     "output_type": "execute_result"
    }
   ],
   "source": [
    "d[1]"
   ]
  },
  {
   "cell_type": "code",
   "execution_count": 22,
   "metadata": {},
   "outputs": [
    {
     "name": "stdout",
     "output_type": "stream",
     "text": [
      "0\n"
     ]
    }
   ],
   "source": [
    "nums = defaultdict(int)\n",
    "nums['one'] = 1\n",
    "nums['two'] = 2\n",
    "print(nums['three'])"
   ]
  },
  {
   "cell_type": "code",
   "execution_count": 23,
   "metadata": {},
   "outputs": [
    {
     "name": "stdout",
     "output_type": "stream",
     "text": [
      "1\n",
      "2\n",
      "Not Present\n"
     ]
    }
   ],
   "source": [
    "# Function to return a default values for keys that is not present \n",
    "def def_value(): \n",
    "    return \"Not Present\"\n",
    "      \n",
    "# Defining the dict \n",
    "d = defaultdict(def_value) \n",
    "d[\"a\"] = 1\n",
    "d[\"b\"] = 2\n",
    "\n",
    "print(d[\"a\"]) \n",
    "print(d[\"b\"]) \n",
    "print(d[\"c\"])"
   ]
  },
  {
   "cell_type": "code",
   "execution_count": 24,
   "metadata": {},
   "outputs": [
    {
     "name": "stdout",
     "output_type": "stream",
     "text": [
      "1\n",
      "2\n",
      "Not Present\n"
     ]
    }
   ],
   "source": [
    "# Defining the dict and passing lambda as default_factory argument \n",
    "d = defaultdict(lambda: \"Not Present\") \n",
    "d[\"a\"] = 1\n",
    "d[\"b\"] = 2\n",
    "  \n",
    "print(d[\"a\"]) \n",
    "print(d[\"b\"]) \n",
    "print(d[\"c\"])"
   ]
  },
  {
   "cell_type": "markdown",
   "metadata": {},
   "source": [
    "### Frozen sets"
   ]
  },
  {
   "cell_type": "code",
   "execution_count": 29,
   "metadata": {},
   "outputs": [
    {
     "name": "stdout",
     "output_type": "stream",
     "text": [
      "Normal Set\n",
      "{'c', 'b', 'a'}\n",
      "\n",
      "Frozen Set\n",
      "frozenset({'g', 'e', 'f'})\n"
     ]
    }
   ],
   "source": [
    "normal_set = set([\"a\", \"b\",\"c\"]) \n",
    "  \n",
    "print(\"Normal Set\") \n",
    "print(normal_set) \n",
    "  \n",
    "# A frozen set \n",
    "b = frozenset([\"e\", \"f\", \"g\"]) \n",
    "  \n",
    "print(\"\\nFrozen Set\") \n",
    "print(b) \n",
    "  \n",
    "# we are trying to add element to a frozen set \n",
    "# b.pop()"
   ]
  },
  {
   "cell_type": "code",
   "execution_count": 30,
   "metadata": {},
   "outputs": [],
   "source": [
    "a = frozenset(['a', \"f\", \"g\"])"
   ]
  },
  {
   "cell_type": "code",
   "execution_count": 31,
   "metadata": {},
   "outputs": [
    {
     "name": "stdout",
     "output_type": "stream",
     "text": [
      "frozenset({'g', 'a', 'f'})\n",
      "\n",
      " frozenset({'g', 'e', 'f'})\n"
     ]
    }
   ],
   "source": [
    "print(a)\n",
    "print('\\n', b)"
   ]
  },
  {
   "cell_type": "code",
   "execution_count": 32,
   "metadata": {},
   "outputs": [
    {
     "data": {
      "text/plain": [
       "frozenset({'a', 'e', 'f', 'g'})"
      ]
     },
     "execution_count": 32,
     "metadata": {},
     "output_type": "execute_result"
    }
   ],
   "source": [
    "a.union(b)"
   ]
  },
  {
   "cell_type": "code",
   "execution_count": 33,
   "metadata": {},
   "outputs": [
    {
     "data": {
      "text/plain": [
       "frozenset({'a'})"
      ]
     },
     "execution_count": 33,
     "metadata": {},
     "output_type": "execute_result"
    }
   ],
   "source": [
    "a.difference(b)"
   ]
  },
  {
   "cell_type": "code",
   "execution_count": 34,
   "metadata": {},
   "outputs": [
    {
     "data": {
      "text/plain": [
       "frozenset({'e'})"
      ]
     },
     "execution_count": 34,
     "metadata": {},
     "output_type": "execute_result"
    }
   ],
   "source": [
    "b.difference(a)"
   ]
  },
  {
   "cell_type": "code",
   "execution_count": 35,
   "metadata": {},
   "outputs": [
    {
     "data": {
      "text/plain": [
       "frozenset({'f', 'g'})"
      ]
     },
     "execution_count": 35,
     "metadata": {},
     "output_type": "execute_result"
    }
   ],
   "source": [
    "a.intersection(b)"
   ]
  }
 ],
 "metadata": {
  "kernelspec": {
   "display_name": "Python 3",
   "language": "python",
   "name": "python3"
  },
  "language_info": {
   "codemirror_mode": {
    "name": "ipython",
    "version": 3
   },
   "file_extension": ".py",
   "mimetype": "text/x-python",
   "name": "python",
   "nbconvert_exporter": "python",
   "pygments_lexer": "ipython3",
   "version": "3.7.4"
  }
 },
 "nbformat": 4,
 "nbformat_minor": 2
}
