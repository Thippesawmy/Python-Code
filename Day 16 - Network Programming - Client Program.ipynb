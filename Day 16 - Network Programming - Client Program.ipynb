{
 "cells": [
  {
   "cell_type": "code",
   "execution_count": 1,
   "metadata": {},
   "outputs": [
    {
     "name": "stdout",
     "output_type": "stream",
     "text": [
      "Working on DESKTOP-SROEG9D (DESKTOP-SROEG9D) with 192.168.0.122\n",
      "Starting up a Port in 1088 in 192.168.0.122\n",
      "Data: 12\n",
      "Data: 14\n",
      "Data: 15\n",
      "Data: 25\n",
      "Data: 42\n"
     ]
    }
   ],
   "source": [
    "import socket\n",
    "import time\n",
    "\n",
    "sock = socket.socket(socket.AF_INET, socket.SOCK_STREAM)\n",
    "\n",
    "#Local hostname\n",
    "localhost = socket.gethostname()\n",
    "\n",
    "#FQDN - Fully Qualified Domain Name\n",
    "localfqdn = socket.getfqdn()\n",
    "\n",
    "#ip address\n",
    "localip = socket.gethostbyname(localhost)\n",
    "\n",
    "print('Working on %s (%s) with %s' % (localhost, localfqdn, localip))\n",
    "\n",
    "server_address = (localip, 1088)\n",
    "print('Starting up a Port in %d in %s' % (1088, localip))\n",
    "\n",
    "sock.connect(server_address)\n",
    "\n",
    "\n",
    "temp = ['12', '14', '15', '25', '42']\n",
    "for i in temp:\n",
    "    print('Data: %s' % i)\n",
    "    new_data = str('Temperature is : %s\\n' % i).encode('utf-8')\n",
    "    sock.sendall(new_data)\n",
    "    time.sleep(2)\n",
    "\n",
    "sock.close()"
   ]
  },
  {
   "cell_type": "code",
   "execution_count": null,
   "metadata": {},
   "outputs": [
    {
     "name": "stdout",
     "output_type": "stream",
     "text": [
      "-->Hi\n",
      "Received: Hello\n",
      "-->Welcome to Python Programming\n"
     ]
    }
   ],
   "source": [
    "import socket as sc\n",
    "\n",
    "def client_program():\n",
    "    host = sc.gethostname()\n",
    "    port = 5000\n",
    "    \n",
    "    sock = sc.socket()\n",
    "    sock.connect((host, port))\n",
    "    \n",
    "    msg = input('-->')\n",
    "    \n",
    "    while msg != 'bye':\n",
    "        sock.send(msg.encode())\n",
    "        data = sock.recv(1024).decode()\n",
    "    \n",
    "        print('Received:', data)\n",
    "        msg = input('-->')\n",
    "    \n",
    "    sock.close()\n",
    "    \n",
    "client_program()"
   ]
  }
 ],
 "metadata": {
  "kernelspec": {
   "display_name": "Python 3",
   "language": "python",
   "name": "python3"
  },
  "language_info": {
   "codemirror_mode": {
    "name": "ipython",
    "version": 3
   },
   "file_extension": ".py",
   "mimetype": "text/x-python",
   "name": "python",
   "nbconvert_exporter": "python",
   "pygments_lexer": "ipython3",
   "version": "3.8.5"
  }
 },
 "nbformat": 4,
 "nbformat_minor": 2
}
