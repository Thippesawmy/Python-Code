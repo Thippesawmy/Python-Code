{
 "cells": [
  {
   "cell_type": "code",
   "execution_count": null,
   "metadata": {},
   "outputs": [],
   "source": [
    "# !pip install tkinter"
   ]
  },
  {
   "cell_type": "code",
   "execution_count": 1,
   "metadata": {},
   "outputs": [],
   "source": [
    "from tkinter import *\n",
    "top = Tk()\n",
    "top.mainloop()"
   ]
  },
  {
   "cell_type": "code",
   "execution_count": 2,
   "metadata": {},
   "outputs": [],
   "source": [
    "window = Tk()\n",
    "\n",
    "window.title('Welcome to GUI Programming')\n",
    "\n",
    "window.mainloop()"
   ]
  },
  {
   "cell_type": "code",
   "execution_count": 30,
   "metadata": {},
   "outputs": [],
   "source": [
    "window = Tk()\n",
    "\n",
    "window.title('GUI Learning')\n",
    "\n",
    "lbl = Label(window, text = 'Hello World!!!')\n",
    "\n",
    "lbl.grid(row = 0, column = 0)\n",
    "\n",
    "window.mainloop()"
   ]
  },
  {
   "cell_type": "code",
   "execution_count": 31,
   "metadata": {},
   "outputs": [],
   "source": [
    "window = Tk()\n",
    "\n",
    "window.title('GUI Learning')\n",
    "\n",
    "lbl = Label(window, text = 'Hello World!!!')\n",
    "\n",
    "lbl.pack()\n",
    "\n",
    "window.mainloop()"
   ]
  },
  {
   "cell_type": "code",
   "execution_count": 9,
   "metadata": {},
   "outputs": [],
   "source": [
    "window = Tk()\n",
    "\n",
    "window.title('GUI Learning')\n",
    "\n",
    "lbl = Label(window, text = 'Hello World!!!', font = ('Arial', 50, 'underline'))\n",
    "\n",
    "lbl.grid(row = 0, column = 0)\n",
    "\n",
    "window.mainloop()"
   ]
  },
  {
   "cell_type": "code",
   "execution_count": 4,
   "metadata": {},
   "outputs": [],
   "source": [
    "window = Tk()\n",
    "\n",
    "window.title('GUI Learning')\n",
    "\n",
    "lbl = Label(window, text = 'Hello World!!!', font = ('Arial', 50, 'underline'))\n",
    "\n",
    "lbl.grid(row = 0, column = 0)\n",
    "\n",
    "window.geometry('400x100')\n",
    "\n",
    "window.mainloop()"
   ]
  },
  {
   "cell_type": "code",
   "execution_count": 6,
   "metadata": {},
   "outputs": [],
   "source": [
    "# Button\n",
    "\n",
    "window = Tk()\n",
    "\n",
    "window.title('GUI Python')\n",
    "\n",
    "window.geometry('200x50')\n",
    "\n",
    "lbl = Label(window, text = 'Hello World')\n",
    "\n",
    "lbl.grid(row = 0, column = 0)\n",
    "\n",
    "btn = Button(window, text = 'Click Me')\n",
    "\n",
    "btn.grid(row = 0, column = 1)\n",
    "\n",
    "window.mainloop()"
   ]
  },
  {
   "cell_type": "code",
   "execution_count": 20,
   "metadata": {},
   "outputs": [],
   "source": [
    "window = Tk()\n",
    "\n",
    "window.title('GUI Python')\n",
    "\n",
    "window.geometry('200x50')\n",
    "\n",
    "lbl = Label(window, text = 'Hello World')\n",
    "\n",
    "lbl.grid(row = 0, column = 0)\n",
    "\n",
    "btn = Button(window, text = 'Click Me', font = ('Arial', 40, 'bold'), foreground = 'orange', background = 'white')\n",
    "\n",
    "btn.grid(row = 1, column = 0)\n",
    "\n",
    "window.mainloop()"
   ]
  },
  {
   "cell_type": "code",
   "execution_count": 22,
   "metadata": {},
   "outputs": [],
   "source": [
    "window = Tk()\n",
    "\n",
    "window.title('GUI Python')\n",
    "\n",
    "# window.geometry('200x50')\n",
    "\n",
    "lbl = Label(window, text = 'Hello World')\n",
    "\n",
    "lbl.grid(row = 0, column = 0)\n",
    "\n",
    "btn = Button(window, text = 'Click Me', font = ('Arial', 25, 'bold'), fg = 'white', bg = 'black')\n",
    "\n",
    "btn.grid(row = 1, column = 0)\n",
    "\n",
    "window.mainloop()"
   ]
  },
  {
   "cell_type": "code",
   "execution_count": 7,
   "metadata": {},
   "outputs": [],
   "source": [
    "# Operations in a button\n",
    "\n",
    "window = Tk()\n",
    "\n",
    "window.title('GUI Python')\n",
    "\n",
    "# window.geometry('200x50')\n",
    "\n",
    "lbl = Label(window, text = 'Hello World')\n",
    "\n",
    "lbl.grid(row = 0, column = 0)\n",
    "\n",
    "def clicked():\n",
    "    lbl.configure(text = 'Button was Executed')\n",
    "\n",
    "btn = Button(window, text = 'Click Me', font = ('Arial', 25, 'bold'), fg = 'white', bg = 'black', command = clicked)\n",
    "\n",
    "btn.grid(row = 1, column = 0)\n",
    "\n",
    "window.mainloop()"
   ]
  },
  {
   "cell_type": "code",
   "execution_count": 8,
   "metadata": {},
   "outputs": [],
   "source": [
    "# Receive an input from Entry\n",
    "\n",
    "window = Tk()\n",
    "\n",
    "window.title('GUI Python')\n",
    "\n",
    "lbl = Label(window, text = 'Hello World')\n",
    "\n",
    "lbl.grid(row = 0, column = 0)\n",
    "\n",
    "txt = Entry(window, width = 10)\n",
    "\n",
    "txt.grid(row = 0, column = 1)\n",
    "\n",
    "def clicked():\n",
    "    lbl.configure(text = 'Button got executed!!!')\n",
    "    \n",
    "btn = Button(window, text = 'Select this', command = clicked)\n",
    "\n",
    "btn.grid(row = 1, column = 1)\n",
    "\n",
    "window.mainloop()"
   ]
  },
  {
   "cell_type": "code",
   "execution_count": null,
   "metadata": {},
   "outputs": [],
   "source": [
    "# Create a Interface with title, a label with specific font size and formatting, a button with a command to change the label\n",
    "# and a simple entry box"
   ]
  },
  {
   "cell_type": "code",
   "execution_count": 9,
   "metadata": {},
   "outputs": [],
   "source": [
    "# Converting Celsius into Farhenheit\n",
    "\n",
    "window = Tk()\n",
    "\n",
    "window.title('Temperature Calculator')\n",
    "\n",
    "window.geometry('400x100')\n",
    "\n",
    "lbl = Label(window, text = 'Celsius -> Farenheit', font = ('Arial', 15, 'bold'), fg = 'grey')\n",
    "lbl.grid(row = 0, column = 0)\n",
    "\n",
    "lbl2 = Label(window, text = 'Please enter a temperature:')\n",
    "lbl2.grid(row = 1, column = 0)\n",
    "\n",
    "txt = Entry(window, width = 10)\n",
    "txt.grid(row = 1, column = 1)\n",
    "\n",
    "lbl3 = Label(window, text = 'Converted Temperature in Farenheit is:', font=('Arial', 10, 'bold'))\n",
    "lbl3.grid(row = 3, column = 0)\n",
    "\n",
    "def convert():\n",
    "    temp = txt.get()\n",
    "    a = (float(temp) * 9/5) + 32\n",
    "    lbl3.configure(text = 'Converted Temperature in Farenheit is: ' + str(a))\n",
    "    \n",
    "btn = Button(window, text = 'Convert', fg = 'white', bg = 'green', command = convert)\n",
    "btn.grid(row = 5, column = 1)\n",
    "\n",
    "window.mainloop()\n"
   ]
  },
  {
   "cell_type": "code",
   "execution_count": null,
   "metadata": {},
   "outputs": [],
   "source": [
    "Create a GUI which will take Annual Salary as input and \n",
    "Provided Monthly breakup, after deductions. 15% for PF and PT\n",
    "\n",
    "a = Annual Salary/12\n",
    "b = a * 0.85"
   ]
  },
  {
   "cell_type": "code",
   "execution_count": null,
   "metadata": {},
   "outputs": [],
   "source": [
    "# Frames, Widgets, Notepad - Text Editor, Photo and Text, filedialogbox"
   ]
  },
  {
   "cell_type": "code",
   "execution_count": 2,
   "metadata": {},
   "outputs": [],
   "source": [
    "# Photo & Text\n",
    "\n",
    "window = Toplevel()\n",
    "\n",
    "Label(window, text = 'Besant Technologies', font = ('Aerial', 15, 'bold')).pack(side = LEFT)\n",
    "\n",
    "img = PhotoImage(file = 'image.png')\n",
    "\n",
    "Button(window, text = 'Click Me!', image = img).pack(side = RIGHT)\n",
    "\n",
    "window.mainloop()"
   ]
  },
  {
   "cell_type": "code",
   "execution_count": 25,
   "metadata": {},
   "outputs": [
    {
     "data": {
      "text/plain": [
       "'C:\\\\Users\\\\91965\\\\Documents\\\\Besant\\\\Python Programming\\\\July Batch'"
      ]
     },
     "execution_count": 25,
     "metadata": {},
     "output_type": "execute_result"
    }
   ],
   "source": [
    "import os\n",
    "os.getcwd()"
   ]
  },
  {
   "cell_type": "code",
   "execution_count": 4,
   "metadata": {},
   "outputs": [],
   "source": [
    "# Photo & Text\n",
    "\n",
    "window = Toplevel()\n",
    "\n",
    "Label(window, text = 'Besant Technologies', font = ('Aerial', 15, 'bold')).pack(side = LEFT)\n",
    "\n",
    "img = PhotoImage(file = 'image.png')\n",
    "\n",
    "Button(window, text = 'Click Me!', font = ('Aerial', 20, 'bold'), image = img, compound = RIGHT).pack(side = RIGHT)\n",
    "\n",
    "window.mainloop()"
   ]
  },
  {
   "cell_type": "code",
   "execution_count": 6,
   "metadata": {},
   "outputs": [],
   "source": [
    "# Filling a Frame\n",
    "\n",
    "window = Tk()\n",
    "\n",
    "window.title('Expanding the Frame in GUI')\n",
    "\n",
    "frame = Frame(window)\n",
    "frame.pack(fill = BOTH , expand = True)\n",
    "\n",
    "b1 = Button(frame, text = 'Blue Button', fg = 'blue', bg = 'white')\n",
    "b1.pack(fill = BOTH, expand = True)\n",
    "\n",
    "b2 = Button(frame, text = 'Red Button', fg = 'red', bg = 'white')\n",
    "b2.pack(fill = BOTH, expand = True)\n",
    "\n",
    "window.mainloop()"
   ]
  },
  {
   "cell_type": "code",
   "execution_count": 8,
   "metadata": {},
   "outputs": [],
   "source": [
    "# Filling a Frame\n",
    "\n",
    "window = Tk()\n",
    "\n",
    "window.title('Expanding the Frame in GUI')\n",
    "\n",
    "frame = Frame(window)\n",
    "frame.pack(fill = Y , expand = True)\n",
    "\n",
    "b1 = Button(frame, text = 'Blue Button', fg = 'blue', bg = 'white')\n",
    "b1.pack(fill = Y, expand = True)\n",
    "\n",
    "b2 = Button(frame, text = 'Red Button', fg = 'red', bg = 'white')\n",
    "b2.pack(fill = Y, expand = True)\n",
    "\n",
    "window.mainloop()"
   ]
  },
  {
   "cell_type": "code",
   "execution_count": 9,
   "metadata": {},
   "outputs": [],
   "source": [
    "window = Tk()\n",
    "\n",
    "window.title('Positioning Buttons!!')\n",
    "\n",
    "frame = Frame(window)\n",
    "frame.pack(fill = BOTH, expand = True)\n",
    "\n",
    "b1 = Button(frame, text = 'Click Me!!!', bg = 'white', fg = 'red')\n",
    "b1.pack(side = BOTTOM, expand = True, fill = BOTH)\n",
    "\n",
    "b2 = Button(frame, text = 'Click Me!!!', bg = 'white', fg = 'blue')\n",
    "b2.pack(side = TOP, expand = True, fill = BOTH)\n",
    "\n",
    "b3 = Button(frame, text = 'Click Me!!!', bg = 'white', fg = 'green')\n",
    "b3.pack(side = TOP, expand = True, fill = BOTH)\n",
    "\n",
    "window.mainloop()"
   ]
  },
  {
   "cell_type": "code",
   "execution_count": 10,
   "metadata": {},
   "outputs": [],
   "source": [
    "window = Tk()\n",
    "\n",
    "window.title('Positioning Buttons!!')\n",
    "\n",
    "frame = Frame(window)\n",
    "frame.pack(fill = BOTH, expand = True)\n",
    "\n",
    "b1 = Button(frame, text = 'Click Me!!!', bg = 'white', fg = 'red')\n",
    "b1.pack(side = RIGHT, expand = True, fill = BOTH)\n",
    "\n",
    "b2 = Button(frame, text = 'Click Me!!!', bg = 'white', fg = 'blue')\n",
    "b2.pack(side = LEFT, expand = True, fill = BOTH)\n",
    "\n",
    "b3 = Button(frame, text = 'Click Me!!!', bg = 'white', fg = 'green')\n",
    "b3.pack(side = LEFT, expand = True, fill = BOTH)\n",
    "\n",
    "window.mainloop()"
   ]
  },
  {
   "cell_type": "code",
   "execution_count": 50,
   "metadata": {},
   "outputs": [],
   "source": [
    "# Widgets\n",
    "# Radiobutton\n",
    "# Checkbutton\n",
    "# Combobox\n",
    "# Listbox\n",
    "# Messagebox\n",
    "# Filedialogbox\n",
    "# Text Widgets"
   ]
  },
  {
   "cell_type": "code",
   "execution_count": 25,
   "metadata": {},
   "outputs": [],
   "source": [
    "from tkinter import *\n",
    "from tkinter.ttk import Combobox\n",
    "\n",
    "window = Tk()\n",
    "\n",
    "window.title('Widgets in Python')\n",
    "\n",
    "window.geometry('350x200')\n",
    "\n",
    "# var = StringVar()\n",
    "a = ('One', 'Two', 'Three', 'four')\n",
    "cb = Combobox(window, values = a)\n",
    "cb.place(x = 10, y = 10)\n",
    "\n",
    "lb = Listbox(window, height = 5, selectmode = 'single')\n",
    "for i in a:\n",
    "    lb.insert(END, i)\n",
    "lb.place(x = 175, y = 10)\n",
    "\n",
    "v1 = IntVar()\n",
    "v2 = IntVar()\n",
    "rb1 = Radiobutton(window, text = 'Male', variable = v1, value = 1)\n",
    "rb2 = Radiobutton(window, text = 'Female', variable = v2, value = 2)\n",
    "rb1.place(x = 10, y = 100)\n",
    "rb2.place(x = 10, y = 125)\n",
    "\n",
    "v11 = IntVar()\n",
    "v12 = IntVar()\n",
    "cb1 = Checkbutton(window, text = 'Cricket', variable = v11)\n",
    "cb2 = Checkbutton(window, text = 'Tennis', variable = v12)\n",
    "cb1.place(x = 175, y = 100)\n",
    "cb2.place(x = 175, y = 125)\n",
    "\n",
    "window.mainloop()"
   ]
  },
  {
   "cell_type": "code",
   "execution_count": 11,
   "metadata": {},
   "outputs": [],
   "source": [
    "from tkinter import messagebox as mb\n",
    "import tkinter as tk\n",
    "\n",
    "def answer():\n",
    "    mb.showerror('Answer', 'Sorry, No Answer Available')\n",
    "    \n",
    "def question():\n",
    "    if mb.askyesno('Verify', 'Really Quit?'):\n",
    "        mb.showwarning('Yes', 'Not yet implemented')\n",
    "    else:\n",
    "        mb.showinfo('No', 'Quit Has been cancelled')\n",
    "        \n",
    "tk.Button(text = 'Quit', command = question).pack(fill = BOTH, expand = True)\n",
    "tk.Button(text = 'Answer', command = answer).pack(fill = BOTH, expand = True)\n",
    "tk.mainloop()"
   ]
  },
  {
   "cell_type": "code",
   "execution_count": 13,
   "metadata": {},
   "outputs": [
    {
     "name": "stdout",
     "output_type": "stream",
     "text": [
      "D:/Besant/Python Programming/Jan'21 - Online/Bankruptcy_data.csv\n"
     ]
    }
   ],
   "source": [
    "# Filedialogbox\n",
    "import tkinter as tk\n",
    "from tkinter import filedialog as fd\n",
    "\n",
    "def file():\n",
    "    name = fd.askopenfilename()\n",
    "    print(name)\n",
    "\n",
    "tk.Button(text = 'Open a File', command = file).pack()\n",
    "tk.mainloop()"
   ]
  },
  {
   "cell_type": "code",
   "execution_count": 14,
   "metadata": {},
   "outputs": [
    {
     "name": "stdout",
     "output_type": "stream",
     "text": [
      "   PropertyID PropertyCity PropertyState\n",
      "0           1     New York      New York\n",
      "1           2   Cincinnati          Ohio\n",
      "2           3     Portland        Oregon\n",
      "3           4      Seattle    Washington\n",
      "4           5  Kansas City      Missouri\n",
      "Index(['PropertyID', 'PropertyCity', 'PropertyState'], dtype='object')\n"
     ]
    }
   ],
   "source": [
    "# Filedialogbox\n",
    "import tkinter as tk\n",
    "import pandas as pd\n",
    "from tkinter import filedialog as fd\n",
    "\n",
    "def file():\n",
    "    name = fd.askopenfilename()\n",
    "    df = pd.read_excel(name)\n",
    "    print(df.head())\n",
    "    print(df.columns)\n",
    "\n",
    "tk.Button(text = 'Open a File', command = file).pack()\n",
    "tk.mainloop()"
   ]
  },
  {
   "cell_type": "markdown",
   "metadata": {},
   "source": [
    "#### Textbox and Horizontal Scrollbars"
   ]
  },
  {
   "cell_type": "code",
   "execution_count": 15,
   "metadata": {},
   "outputs": [],
   "source": [
    "import tkinter as tk\n",
    "\n",
    "window = tk.Tk()\n",
    "\n",
    "window.title('GUI Programming')\n",
    "\n",
    "lbl = tk.Label(window, text = 'Hello World, Welcome to Python Programming')\n",
    "\n",
    "lbl.pack()\n",
    "\n",
    "window.mainloop()"
   ]
  },
  {
   "cell_type": "code",
   "execution_count": 16,
   "metadata": {},
   "outputs": [],
   "source": [
    "# import tkinter as tk\n",
    "window = Tk()\n",
    "\n",
    "window.title('Notepad')\n",
    "\n",
    "text = Text(window, height = 3, width = 35)\n",
    "\n",
    "text.pack()\n",
    "\n",
    "text.insert(END, 'Introduction to Text Widgets\\n Second line for Testing')\n",
    "\n",
    "window.mainloop()"
   ]
  },
  {
   "cell_type": "code",
   "execution_count": 20,
   "metadata": {},
   "outputs": [],
   "source": [
    "window = tk.Tk()\n",
    "\n",
    "window.title('Notepad')\n",
    "\n",
    "text = tk.Text(window, height = 5, width = 50)\n",
    "\n",
    "text.pack()\n",
    "\n",
    "value = \"\"\"“Be who you are and say what you feel, \n",
    "because those who mind don't matter, and those\n",
    "who matter don't mind.”\n",
    "“Be yourself; everyone else is already taken.” \n",
    "“You know you're in love when you can't fall \n",
    "asleep because reality is finally\n",
    "better than your dreams.” \n",
    "“Don't walk behind me; I may not lead.\"\"\"\n",
    "\n",
    "text.insert(tk.END, value)\n",
    "\n",
    "window.mainloop()"
   ]
  },
  {
   "cell_type": "code",
   "execution_count": 23,
   "metadata": {},
   "outputs": [],
   "source": [
    "# Scrollbars\n",
    "\n",
    "window = Tk()\n",
    "\n",
    "s = Scrollbar(window)\n",
    "\n",
    "text = Text(window, height = 5, width = 35)\n",
    "\n",
    "s.pack(side = RIGHT, fill = Y)\n",
    "\n",
    "text.pack(side = LEFT, fill = Y)\n",
    "\n",
    "s.config(command = text.yview)\n",
    "\n",
    "text.config(yscrollcommand = s.set)\n",
    "\n",
    "value = \"\"\"“Be who you are and say what you feel, because those who mind don't matter, and those who matter don't mind.”\n",
    "“Be yourself; everyone else is already taken.” \n",
    "“You know you're in love when you can't fall asleep because reality is finally better than your dreams.” \n",
    "“Don't walk behind me; I may not lead.\"\"\"\n",
    "\n",
    "text.insert(END, value)\n",
    "\n",
    "window.mainloop()"
   ]
  },
  {
   "cell_type": "code",
   "execution_count": null,
   "metadata": {},
   "outputs": [],
   "source": [
    "# A simple Calculator Taking two inputs(entry, get) and performing addition"
   ]
  }
 ],
 "metadata": {
  "kernelspec": {
   "display_name": "Python 3",
   "language": "python",
   "name": "python3"
  },
  "language_info": {
   "codemirror_mode": {
    "name": "ipython",
    "version": 3
   },
   "file_extension": ".py",
   "mimetype": "text/x-python",
   "name": "python",
   "nbconvert_exporter": "python",
   "pygments_lexer": "ipython3",
   "version": "3.8.5"
  }
 },
 "nbformat": 4,
 "nbformat_minor": 2
}
